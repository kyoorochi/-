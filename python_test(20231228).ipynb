{
  "nbformat": 4,
  "nbformat_minor": 0,
  "metadata": {
    "colab": {
      "provenance": [],
      "authorship_tag": "ABX9TyMuoYvY8IGdhO3L0caICSl3",
      "include_colab_link": true
    },
    "kernelspec": {
      "name": "python3",
      "display_name": "Python 3"
    },
    "language_info": {
      "name": "python"
    }
  },
  "cells": [
    {
      "cell_type": "markdown",
      "metadata": {
        "id": "view-in-github",
        "colab_type": "text"
      },
      "source": [
        "<a href=\"https://colab.research.google.com/github/kyoorochi/-/blob/main/python_test(20231228).ipynb\" target=\"_parent\"><img src=\"https://colab.research.google.com/assets/colab-badge.svg\" alt=\"Open In Colab\"/></a>"
      ]
    },
    {
      "cell_type": "code",
      "source": [
        "# 제대로 하고 있는건가?\n",
        "print(\"진짜 안보이는거 맞나?\")\n",
        "# print(\"진짜네?\")"
      ],
      "metadata": {
        "colab": {
          "base_uri": "https://localhost:8080/"
        },
        "id": "Xzqma3R2CR1W",
        "outputId": "5a3b60c9-5ce5-41a8-c76d-349432d287b5"
      },
      "execution_count": null,
      "outputs": [
        {
          "output_type": "stream",
          "name": "stdout",
          "text": [
            "진짜 안보이는거 맞나?\n"
          ]
        }
      ]
    },
    {
      "cell_type": "code",
      "source": [
        "# print(\"진짜 안보이는거 맞나?\")\n",
        "# print(\"진짜네?\")"
      ],
      "metadata": {
        "id": "Cca3hR6JDCKV"
      },
      "execution_count": null,
      "outputs": []
    },
    {
      "cell_type": "code",
      "source": [
        "for 동물 in (\"토끼\", \"사자\", \"호랑이\", \"고양이\"):\n",
        "    print(동물)\n",
        "    print(\"보러 갈래요?\")"
      ],
      "metadata": {
        "colab": {
          "base_uri": "https://localhost:8080/"
        },
        "id": "lNrqL8QkDcWb",
        "outputId": "586091b3-0497-4181-a8e9-1784aad7a57b"
      },
      "execution_count": null,
      "outputs": [
        {
          "output_type": "stream",
          "name": "stdout",
          "text": [
            "토끼\n",
            "보러 갈래요?\n",
            "사자\n",
            "보러 갈래요?\n",
            "호랑이\n",
            "보러 갈래요?\n",
            "고양이\n",
            "보러 갈래요?\n"
          ]
        }
      ]
    },
    {
      "cell_type": "markdown",
      "source": [
        "##사칙연산 테스트 (마크다운언어)\n",
        "더하기 : +\n",
        "\n",
        "빼기 : -\n",
        "\n",
        "곱하기 : *\n",
        "\n",
        "나누기 : / (일반적인 나누기), // (몫을 반환, 5/2=2), % (나머지를 반환, 5/2=1)\n",
        "\n",
        "거듭제곱 : **"
      ],
      "metadata": {
        "id": "W7linrRbFaNQ"
      }
    },
    {
      "cell_type": "code",
      "source": [
        "# 더하기\n",
        "print(3+2)"
      ],
      "metadata": {
        "colab": {
          "base_uri": "https://localhost:8080/"
        },
        "id": "jQpjV2YzGYQ2",
        "outputId": "0dc06922-7939-41e0-8733-781d900a9734"
      },
      "execution_count": null,
      "outputs": [
        {
          "output_type": "stream",
          "name": "stdout",
          "text": [
            "5\n"
          ]
        }
      ]
    },
    {
      "cell_type": "code",
      "source": [
        "# 빼기\n",
        "print (3-1)"
      ],
      "metadata": {
        "colab": {
          "base_uri": "https://localhost:8080/"
        },
        "id": "F73W_2ACGhQO",
        "outputId": "8c0d73d5-aae4-4f21-8cac-a1ebb461a6ac"
      },
      "execution_count": null,
      "outputs": [
        {
          "output_type": "stream",
          "name": "stdout",
          "text": [
            "2\n"
          ]
        }
      ]
    },
    {
      "cell_type": "code",
      "source": [
        "# 곱하기\n",
        "print (3*2)"
      ],
      "metadata": {
        "colab": {
          "base_uri": "https://localhost:8080/"
        },
        "id": "uA3CMUsQGoF1",
        "outputId": "1f364505-cb0b-4c03-98d1-a4a295cbfc2b"
      },
      "execution_count": null,
      "outputs": [
        {
          "output_type": "stream",
          "name": "stdout",
          "text": [
            "6\n"
          ]
        }
      ]
    },
    {
      "cell_type": "code",
      "source": [
        "# 나누기 (일반)\n",
        "print (5/2)"
      ],
      "metadata": {
        "colab": {
          "base_uri": "https://localhost:8080/"
        },
        "id": "bXic93tpGuW5",
        "outputId": "b8cdbb4e-d7d7-43aa-89d3-5fdc066a0e7c"
      },
      "execution_count": null,
      "outputs": [
        {
          "output_type": "stream",
          "name": "stdout",
          "text": [
            "2.5\n"
          ]
        }
      ]
    },
    {
      "cell_type": "code",
      "source": [
        "# 나누기 (몫을 반환)\n",
        "print (5//2)"
      ],
      "metadata": {
        "colab": {
          "base_uri": "https://localhost:8080/"
        },
        "id": "xKZARZZgG6De",
        "outputId": "ecc759ae-5c27-4d64-9673-4982471f3ee1"
      },
      "execution_count": null,
      "outputs": [
        {
          "output_type": "stream",
          "name": "stdout",
          "text": [
            "2\n"
          ]
        }
      ]
    },
    {
      "cell_type": "code",
      "source": [
        "# 나누기 (나머지를 반환)\n",
        "print (8%3)"
      ],
      "metadata": {
        "colab": {
          "base_uri": "https://localhost:8080/"
        },
        "id": "gBJY499gHBCQ",
        "outputId": "a8b41ee5-6651-47a1-d9a3-ce1b3cfac4f8"
      },
      "execution_count": null,
      "outputs": [
        {
          "output_type": "stream",
          "name": "stdout",
          "text": [
            "2\n"
          ]
        }
      ]
    },
    {
      "cell_type": "code",
      "source": [
        "# 거듭제곱\n",
        "print (2**10)"
      ],
      "metadata": {
        "colab": {
          "base_uri": "https://localhost:8080/"
        },
        "id": "weg-G4Y_HbFE",
        "outputId": "39aef52f-4e59-4b80-bace-75f44d33f2bf"
      },
      "execution_count": null,
      "outputs": [
        {
          "output_type": "stream",
          "name": "stdout",
          "text": [
            "1024\n"
          ]
        }
      ]
    },
    {
      "cell_type": "markdown",
      "source": [
        "내장함수 : divmod\n",
        "> 내장함수 : 자주 사용하는 기능을 미리 만들어 놓은 것을 내장함수라고 한다.\n",
        "\n",
        "**divmod** : 몫과 나머지를 동시에 구해짐"
      ],
      "metadata": {
        "id": "Pj6yVg7mHuFQ"
      }
    },
    {
      "cell_type": "code",
      "source": [
        "print(divmod(5, 2))\n",
        "print(divmod(7, 4))\n",
        "print(divmod(13, 2))\n",
        "print(divmod(19, 4))\n",
        "\n",
        "print( 7//4, \",\" , 7%4)"
      ],
      "metadata": {
        "colab": {
          "base_uri": "https://localhost:8080/"
        },
        "id": "Sc8fTbRtIAyY",
        "outputId": "6903b991-6199-4cc6-b0ce-0bce2919bc73"
      },
      "execution_count": null,
      "outputs": [
        {
          "output_type": "stream",
          "name": "stdout",
          "text": [
            "(2, 1)\n",
            "(1, 3)\n",
            "(6, 1)\n",
            "(4, 3)\n",
            "1 , 3\n"
          ]
        }
      ]
    },
    {
      "cell_type": "markdown",
      "source": [
        "###괄호\n",
        "\n",
        "수학에서 사용되는 괄호와 동일한 기능을 가짐\n",
        "\n",
        "() : 괄호 안에 있는 것을 먼저 계산한다\n",
        "\n",
        "사칙연산 순서 : 괄호 -> 곱셈, 나눗셈 -> 덧셈, 뺄셈"
      ],
      "metadata": {
        "id": "g93A4dOeI4HA"
      }
    },
    {
      "cell_type": "code",
      "source": [
        "3+2*4"
      ],
      "metadata": {
        "colab": {
          "base_uri": "https://localhost:8080/"
        },
        "id": "kLilGR4FJO8l",
        "outputId": "0ba9ac86-efd0-4251-8295-5dc8cd4ed00a"
      },
      "execution_count": null,
      "outputs": [
        {
          "output_type": "execute_result",
          "data": {
            "text/plain": [
              "11"
            ]
          },
          "metadata": {},
          "execution_count": 47
        }
      ]
    },
    {
      "cell_type": "code",
      "source": [
        "(3+2)*4"
      ],
      "metadata": {
        "colab": {
          "base_uri": "https://localhost:8080/"
        },
        "id": "e90VuLgSJSz2",
        "outputId": "fddac408-6baf-49e2-989a-1744eefab924"
      },
      "execution_count": null,
      "outputs": [
        {
          "output_type": "execute_result",
          "data": {
            "text/plain": [
              "20"
            ]
          },
          "metadata": {},
          "execution_count": 48
        }
      ]
    },
    {
      "cell_type": "markdown",
      "source": [
        "### 변수란? (기본 중에 기본)\n",
        "\n",
        "변수 : 하나의 값을 저장할 수 있는 공간\n",
        "\n",
        "하나의 변수에 하나의 갑슬 넣을 때 : 변수이름=값\n",
        "\n",
        "두 개의 변수에 하나의 값을 각각 넣을 때 : 변수이름1, 변수이름2=값1, 값2"
      ],
      "metadata": {
        "id": "QHAoBuobLJZJ"
      }
    },
    {
      "cell_type": "code",
      "source": [
        "# 하나의 값을 변수에 넣을 때\n",
        "num=1\n",
        "#print(num)\n",
        "\n",
        "# 두개의 값을 변수에 넣을 때\n",
        "num_1, num_2=1, 2\n",
        "print(num_1)\n",
        "print(num_2)\n",
        "\n",
        "print(num_1, num_2)"
      ],
      "metadata": {
        "colab": {
          "base_uri": "https://localhost:8080/"
        },
        "id": "CJIvuAp2MVjk",
        "outputId": "a9dd71ee-6caa-4ac6-f8b5-745adc18a9d3"
      },
      "execution_count": null,
      "outputs": [
        {
          "output_type": "stream",
          "name": "stdout",
          "text": [
            "1\n",
            "2\n",
            "1 2\n"
          ]
        }
      ]
    },
    {
      "cell_type": "markdown",
      "source": [
        "1부터 5까지의 숫자를 더하는 문제를 풀어보자. 단, 다음 숫자를 더하기 위해서 매번 새로운 줄에서 더해야 되는 조건이 있다."
      ],
      "metadata": {
        "id": "R3FJbuo_NBze"
      }
    },
    {
      "cell_type": "code",
      "source": [
        "# 변수를 사용하지 않을 때\n",
        "# 이전에 계산된 결과를 저장할 수 있는 방법이 없음\n",
        "1+2\n",
        "1+2+3\n",
        "1+2+3+4\n",
        "1+2+3+4+5"
      ],
      "metadata": {
        "colab": {
          "base_uri": "https://localhost:8080/"
        },
        "id": "D5VUzyaKNMZ-",
        "outputId": "6bf84596-f271-4f9f-df2d-7e45bdb96a96"
      },
      "execution_count": null,
      "outputs": [
        {
          "output_type": "execute_result",
          "data": {
            "text/plain": [
              "15"
            ]
          },
          "metadata": {},
          "execution_count": 57
        }
      ]
    },
    {
      "cell_type": "code",
      "source": [
        "# 변수를 사용할 때\n",
        "# 이전에 계산된 결과를 저장해서 사용할 수 있음\n",
        "\n",
        "sum=1+2\n",
        "sum=sum+3\n",
        "sum=sum+4\n",
        "sum=sum+5\n",
        "\n",
        "print(sum)"
      ],
      "metadata": {
        "colab": {
          "base_uri": "https://localhost:8080/"
        },
        "id": "w3uApHItNT-H",
        "outputId": "f1014faf-b113-4a14-bd05-afefa0c0d0ec"
      },
      "execution_count": null,
      "outputs": [
        {
          "output_type": "stream",
          "name": "stdout",
          "text": [
            "15\n"
          ]
        }
      ]
    },
    {
      "cell_type": "markdown",
      "source": [
        "### 변수에 값을 넣는 것 -> 할당\n",
        "\n",
        "sum=1+2 -> 1+2의 계산된 결과를 sum이라는 변수에 할당한다.\n",
        "\n",
        "sum은 변수명이고 \"=\" 은 할당(assignment)이라고 한다.\n",
        "\n",
        "\"=\" : 할당 연산자\n",
        "\n",
        "\"+\" : 산술 연산자\n",
        "\n",
        "+= : 산술 후 바로 발당하는 문법 (-=, *=, /= 도 가능하다)"
      ],
      "metadata": {
        "id": "xZ2hBHyCNth4"
      }
    },
    {
      "cell_type": "code",
      "source": [
        "# 변수를 사용하며 사용 가능한 문법\n",
        "sum=1+2\n",
        "sum=sum+3\n",
        "sum=sum+4\n",
        "sum=sum+5\n",
        "\n",
        "print(sum)\n",
        "\n",
        "sum2=1+2\n",
        "sum2+=3\n",
        "sum2+=4\n",
        "sum2+=5\n",
        "\n",
        "print(sum2)"
      ],
      "metadata": {
        "colab": {
          "base_uri": "https://localhost:8080/"
        },
        "id": "TjfqLNMYOloK",
        "outputId": "979d6e55-4283-42c4-ada2-63fd2dbec96f"
      },
      "execution_count": null,
      "outputs": [
        {
          "output_type": "stream",
          "name": "stdout",
          "text": [
            "15\n",
            "15\n"
          ]
        }
      ]
    },
    {
      "cell_type": "code",
      "source": [
        "# 주의!! 선언되지 않은 별수를 사용할 경우 에러가 발생한다\n",
        "sum3+=1\n",
        "sum3+=0"
      ],
      "metadata": {
        "colab": {
          "base_uri": "https://localhost:8080/",
          "height": 215
        },
        "id": "7gF61Xw7Ozps",
        "outputId": "5235e504-c5dc-4728-8f10-9f05ad78765e"
      },
      "execution_count": null,
      "outputs": [
        {
          "output_type": "error",
          "ename": "NameError",
          "evalue": "ignored",
          "traceback": [
            "\u001b[0;31m---------------------------------------------------------------------------\u001b[0m",
            "\u001b[0;31mNameError\u001b[0m                                 Traceback (most recent call last)",
            "\u001b[0;32m<ipython-input-63-b8ede381a6ac>\u001b[0m in \u001b[0;36m<cell line: 2>\u001b[0;34m()\u001b[0m\n\u001b[1;32m      1\u001b[0m \u001b[0;31m# 주의!! 선언되지 않은 별수를 사용할 경우 에러가 발생한다\u001b[0m\u001b[0;34m\u001b[0m\u001b[0;34m\u001b[0m\u001b[0m\n\u001b[0;32m----> 2\u001b[0;31m \u001b[0msum3\u001b[0m\u001b[0;34m+=\u001b[0m\u001b[0;36m1\u001b[0m\u001b[0;34m\u001b[0m\u001b[0;34m\u001b[0m\u001b[0m\n\u001b[0m\u001b[1;32m      3\u001b[0m \u001b[0msum3\u001b[0m\u001b[0;34m+=\u001b[0m\u001b[0;36m0\u001b[0m\u001b[0;34m\u001b[0m\u001b[0;34m\u001b[0m\u001b[0m\n",
            "\u001b[0;31mNameError\u001b[0m: name 'sum3' is not defined"
          ]
        }
      ]
    },
    {
      "cell_type": "code",
      "source": [
        "# 변수에 어떠한 값도 넣고 싶지 않고 선언하는 방법\n",
        "nothing=None\n",
        "print(None)"
      ],
      "metadata": {
        "colab": {
          "base_uri": "https://localhost:8080/"
        },
        "id": "DEtG48FQPkkc",
        "outputId": "3d21312c-cbcc-46a0-e982-4b7393113a97"
      },
      "execution_count": null,
      "outputs": [
        {
          "output_type": "stream",
          "name": "stdout",
          "text": [
            "None\n"
          ]
        }
      ]
    },
    {
      "cell_type": "markdown",
      "source": [
        "### 변수를 만드는 규칙\n",
        "\n",
        "영문자와 숫자를 사용할 수 있다.  대소문자를 구분한다.\n",
        "첫글자는 대문자로 쓰는걸 지향한다.  \n",
        "문자부터 시작해야 하며 숫자부터 시작하면 안된다.  \n",
        "언더바로 시작할 수 있으나 이외의 특수문자는 사용할 수 없다. (+,-,*,/,@,&,% 등)  \n",
        "파이썬의 키워드(if, for, while, and, or 등)는 사용할 수 없다."
      ],
      "metadata": {
        "id": "rw0DzRmaP5EA"
      }
    },
    {
      "cell_type": "code",
      "source": [
        "#대수문자를 구분하는 변수\n",
        "BIG=\"크다\"\n",
        "big=\"작다\"\n",
        "\n",
        "print(BIG,big)"
      ],
      "metadata": {
        "colab": {
          "base_uri": "https://localhost:8080/"
        },
        "id": "DyuVDdnLQhge",
        "outputId": "17ebfae0-ae04-4281-b7d4-c5dd8fd19fc4"
      },
      "execution_count": null,
      "outputs": [
        {
          "output_type": "stream",
          "name": "stdout",
          "text": [
            "크다 작다\n"
          ]
        }
      ]
    },
    {
      "cell_type": "code",
      "source": [
        "# 변수를 만들 때 스네이크 케이스를 사용한다. 언더바는 2개 적용한다\n",
        "# 개발에 관련된 여러 조건을 명시하는 것들을 코드 컨벤션이라고 한다.\n",
        "\n",
        "box__shose=\"스니커즈\"\n",
        "box__hat=\"슈프림 모자\"\n",
        "\n",
        "print(box__shose)\n",
        "print(box__hat)"
      ],
      "metadata": {
        "colab": {
          "base_uri": "https://localhost:8080/"
        },
        "id": "ggID-b4NUYC_",
        "outputId": "63503bfc-900a-4ab0-9d46-e174f59c972d"
      },
      "execution_count": null,
      "outputs": [
        {
          "output_type": "stream",
          "name": "stdout",
          "text": [
            "스니커즈\n",
            "슈프림 모자\n"
          ]
        }
      ]
    },
    {
      "cell_type": "code",
      "source": [
        "#print() 포맷팅 3가지 f-string : print(f'{변수명}')\n",
        "\n",
        "me = \"BE_02_박민호\"\n",
        "print(f'{me}만 빼고 고양이 다 있어')"
      ],
      "metadata": {
        "colab": {
          "base_uri": "https://localhost:8080/"
        },
        "id": "Ee3n7qDsU3q1",
        "outputId": "2e49e054-6a71-4fe9-da58-c15cd4206051"
      },
      "execution_count": null,
      "outputs": [
        {
          "output_type": "stream",
          "name": "stdout",
          "text": [
            "BE_02_박민호만 빼고 고양이 다 있어\n"
          ]
        }
      ]
    },
    {
      "cell_type": "code",
      "source": [
        "# 강의 속 미션 해보기\n",
        "# 붕어빵(팥) : 2000원, 붕어빵(슈크림) : 2500원, 붕어빵(잡채) : 3000원\n",
        "# 무인 주문기계를 만들어 보시오\n",
        "# 잡붕 3개, 슈붕 2개를 주문하면\n",
        "# \"주문이 완료되었습니다. 슈붕 2개, 잡채붕어빵 3개. 총 5개 결제 금액은 14000원 입니다.\"\n",
        "# 이 문구가 출력되도록 코드를 작성해 보시오\n",
        "# 변수를 만들때 스네이크 케이스에 언더바는 2개 / print()문의 포맷팅은 f-string\n",
        "\n",
        "# 모르겠어서 그냥 강의 재생을 시켰는데 이 아래 문구는 뭐지? 헐...\n",
        "\n",
        "# 변수값 입력\n",
        "fish__p, fish__s, fish__j = \"붕어빵(팥)\", \"붕어빵(슈크림)\", \"붕어빵(잡채)\"\n",
        "fish__p__sell, fish__s__sell, fish__j__sell = 2000, 2500, 3000\n",
        "order_s, order_j = 2, 3\n",
        "\n",
        "# 붕어빵 계산값\n",
        "order_s__pay, order_j__pay = fish__s__sell*2, fish__j__sell*3\n",
        "\n",
        "# 구매 총 개수\n",
        "total = order_s + order_j\n",
        "\n",
        "# 구매 총 금액\n",
        "total_pay = order_s__pay + order_j__pay\n",
        "\n",
        "print(f'주문이 완료되었습니다. {fish__s} {order_s}개, {fish__j} {order_j}개. 총 {total}개 결제 금액은 {total_pay}원 입니다.')"
      ],
      "metadata": {
        "colab": {
          "base_uri": "https://localhost:8080/"
        },
        "id": "cpRo2du7Vb8a",
        "outputId": "78a269b7-5e9e-4779-faaa-47cf662f6b52"
      },
      "execution_count": null,
      "outputs": [
        {
          "output_type": "stream",
          "name": "stdout",
          "text": [
            "주문이 완료되었습니다. 붕어빵(슈크림) 2개, 붕어빵(잡채) 3개. 총 5개 결제 금액은 14000원 입니다.\n"
          ]
        }
      ]
    },
    {
      "cell_type": "code",
      "source": [
        "# int(integer) : 정수 (1, 2, 3, 4, -1, -2 등)\n",
        "# float(float) : 실수 (소수, 1.2, 3.3, 4.0)\n",
        "# str(string) : 문자\n",
        "# bool(bool, boolean) : 참 또는 거짓, true 또는 false, 1 또는 0\n",
        "# list\n",
        "# tuple (마크다운 언어)\n",
        "# dict\n",
        "# set"
      ],
      "metadata": {
        "id": "lTLcoo9gZ9oB"
      },
      "execution_count": null,
      "outputs": []
    },
    {
      "cell_type": "code",
      "source": [
        "#box_num에 숫자만 넣자는 약속을 했다. 그러나 누군가 한글 표기법으로 숫자를 넣었다\n",
        "\n",
        "box_num = \"하나\"\n",
        "box_num += 1\n",
        "print(box_num)"
      ],
      "metadata": {
        "colab": {
          "base_uri": "https://localhost:8080/",
          "height": 233
        },
        "id": "WIgm5swQcpza",
        "outputId": "38a8178f-5b92-47c1-f5ed-012652d7e86d"
      },
      "execution_count": null,
      "outputs": [
        {
          "output_type": "error",
          "ename": "TypeError",
          "evalue": "ignored",
          "traceback": [
            "\u001b[0;31m---------------------------------------------------------------------------\u001b[0m",
            "\u001b[0;31mTypeError\u001b[0m                                 Traceback (most recent call last)",
            "\u001b[0;32m<ipython-input-80-a47193021812>\u001b[0m in \u001b[0;36m<cell line: 4>\u001b[0;34m()\u001b[0m\n\u001b[1;32m      2\u001b[0m \u001b[0;34m\u001b[0m\u001b[0m\n\u001b[1;32m      3\u001b[0m \u001b[0mbox_num\u001b[0m \u001b[0;34m=\u001b[0m \u001b[0;34m\"1\"\u001b[0m\u001b[0;34m\u001b[0m\u001b[0;34m\u001b[0m\u001b[0m\n\u001b[0;32m----> 4\u001b[0;31m \u001b[0mbox_num\u001b[0m \u001b[0;34m+=\u001b[0m \u001b[0;36m1\u001b[0m\u001b[0;34m\u001b[0m\u001b[0;34m\u001b[0m\u001b[0m\n\u001b[0m\u001b[1;32m      5\u001b[0m \u001b[0mprint\u001b[0m\u001b[0;34m(\u001b[0m\u001b[0mbox_num\u001b[0m\u001b[0;34m)\u001b[0m\u001b[0;34m\u001b[0m\u001b[0;34m\u001b[0m\u001b[0m\n",
            "\u001b[0;31mTypeError\u001b[0m: can only concatenate str (not \"int\") to str"
          ]
        }
      ]
    },
    {
      "cell_type": "code",
      "source": [
        "type(box_num)"
      ],
      "metadata": {
        "colab": {
          "base_uri": "https://localhost:8080/"
        },
        "id": "AQ9rKNxpdNhW",
        "outputId": "346e62c5-a2fa-4f48-ea9d-85f467ba8183"
      },
      "execution_count": null,
      "outputs": [
        {
          "output_type": "execute_result",
          "data": {
            "text/plain": [
              "str"
            ]
          },
          "metadata": {},
          "execution_count": 81
        }
      ]
    },
    {
      "cell_type": "code",
      "source": [
        "type(1)"
      ],
      "metadata": {
        "colab": {
          "base_uri": "https://localhost:8080/"
        },
        "id": "MCJ7zoyadSgk",
        "outputId": "4dbd8dc9-e545-45c3-b537-a39b4e558ea4"
      },
      "execution_count": null,
      "outputs": [
        {
          "output_type": "execute_result",
          "data": {
            "text/plain": [
              "int"
            ]
          },
          "metadata": {},
          "execution_count": 84
        }
      ]
    },
    {
      "cell_type": "markdown",
      "source": [
        "### 형변환 : 형태를 변환시킨다. (예시 : int -> float)  \n",
        "5(int) -> 5.0 (float)"
      ],
      "metadata": {
        "id": "3cdoYXNsd14e"
      }
    },
    {
      "cell_type": "code",
      "source": [
        "print(float(5))"
      ],
      "metadata": {
        "colab": {
          "base_uri": "https://localhost:8080/"
        },
        "id": "wq6eEYQ4eBjQ",
        "outputId": "e63e8b03-8e3d-4bcb-f914-100f9b1dca82"
      },
      "execution_count": null,
      "outputs": [
        {
          "output_type": "stream",
          "name": "stdout",
          "text": [
            "5.0\n"
          ]
        }
      ]
    },
    {
      "cell_type": "code",
      "source": [
        "퀴즈 = \"왕이 집에 가기 싫을때 하는 말은? 궁시렁 궁시렁\"\n",
        "#len(퀴즈)\n",
        "print(퀴즈[20:27])"
      ],
      "metadata": {
        "colab": {
          "base_uri": "https://localhost:8080/"
        },
        "id": "QzCYMaxBjO9T",
        "outputId": "b5581dac-f85d-4eb0-a504-99779f4eb86a"
      },
      "execution_count": null,
      "outputs": [
        {
          "output_type": "stream",
          "name": "stdout",
          "text": [
            "궁시렁 궁시렁\n"
          ]
        }
      ]
    },
    {
      "cell_type": "code",
      "source": [
        "생년월일 = \"2000.12.25\"\n",
        "년 = 생년월일[0:4]\n",
        "월 = 생년월일[5:7]\n",
        "일 = 생년월일[8:11]\n",
        "\n",
        "print(f'{년}, {월}, {일}')"
      ],
      "metadata": {
        "colab": {
          "base_uri": "https://localhost:8080/"
        },
        "id": "d9QPERNMj1S_",
        "outputId": "3889d6b7-fba8-4372-8eef-d70771533d62"
      },
      "execution_count": null,
      "outputs": [
        {
          "output_type": "stream",
          "name": "stdout",
          "text": [
            "2000, 12, 25\n"
          ]
        }
      ]
    },
    {
      "cell_type": "code",
      "source": [
        "숫자 = \"1234567890\"\n",
        "#전체 출력\n",
        "print(숫자[::])\n",
        "\n",
        "#전체 출력 (거꾸로))\n",
        "print(숫자[::-1])\n",
        "\n",
        "#첫번째 인덱스 기준으로 2칸씩 띄어쓰기 출력하기\n",
        "print(숫자[4:1:-1])"
      ],
      "metadata": {
        "colab": {
          "base_uri": "https://localhost:8080/"
        },
        "id": "jlgDhLcNkn0y",
        "outputId": "92c3b34b-ccd6-4af2-e54f-3cf6bba52d46"
      },
      "execution_count": null,
      "outputs": [
        {
          "output_type": "stream",
          "name": "stdout",
          "text": [
            "1234567890\n",
            "0987654321\n",
            "543\n",
            "\n"
          ]
        }
      ]
    },
    {
      "cell_type": "code",
      "source": [
        "과일 = \"apple\"\n",
        "과일.count(\"p\")"
      ],
      "metadata": {
        "colab": {
          "base_uri": "https://localhost:8080/"
        },
        "id": "TbvIvAVjlZ_2",
        "outputId": "1a18f22c-3998-4eaa-f23c-0ef21e296bb2"
      },
      "execution_count": null,
      "outputs": [
        {
          "output_type": "execute_result",
          "data": {
            "text/plain": [
              "2"
            ]
          },
          "metadata": {},
          "execution_count": 106
        }
      ]
    },
    {
      "cell_type": "code",
      "source": [
        "과일.index(\"p\")"
      ],
      "metadata": {
        "colab": {
          "base_uri": "https://localhost:8080/"
        },
        "id": "Cqn4kdnJmn1p",
        "outputId": "d63f4c1a-d377-4f89-9c82-6949bada2214"
      },
      "execution_count": null,
      "outputs": [
        {
          "output_type": "execute_result",
          "data": {
            "text/plain": [
              "1"
            ]
          },
          "metadata": {},
          "execution_count": 107
        }
      ]
    },
    {
      "cell_type": "code",
      "source": [
        "print(id(3.0))"
      ],
      "metadata": {
        "colab": {
          "base_uri": "https://localhost:8080/"
        },
        "id": "RuOdOe4TotyG",
        "outputId": "84d67269-d7a7-4fe2-a1f8-b54ed32240b2"
      },
      "execution_count": null,
      "outputs": [
        {
          "output_type": "stream",
          "name": "stdout",
          "text": [
            "138723665674448\n"
          ]
        }
      ]
    },
    {
      "cell_type": "markdown",
      "source": [
        "## 입력과 출력\n",
        "\n",
        "*입력 : input()  \n",
        "*출력 : print()\n",
        "\n",
        "##### 함수와 메소드  \n",
        "함수 : 어디에 속해있지 않고 단독 모듈이라 함수를 그냥 호출하여 사용이 가능하다 (input(), print()  \n",
        "메소드 : 함수의 클래스 안에 속해 있고, 클래스의 멤버 변수들을 이용해서 구현된 것 (\"어렵다\".count(\"어\"), \"어렵다\".index(\"어\")"
      ],
      "metadata": {
        "id": "iAt-rktetk3n"
      }
    },
    {
      "cell_type": "code",
      "source": [
        "대사 = input()\n",
        "print(대사 + \"그래도 끝까지 가보자\")"
      ],
      "metadata": {
        "colab": {
          "base_uri": "https://localhost:8080/"
        },
        "id": "IR4_WqBHtnUI",
        "outputId": "5b3a0f64-cacc-4757-a116-559ec24a24d3"
      },
      "execution_count": null,
      "outputs": [
        {
          "output_type": "stream",
          "name": "stdout",
          "text": [
            "초장부터 어렵네...\n",
            "초장부터 어렵네...그래도 끝까지 가보자\n"
          ]
        }
      ]
    },
    {
      "cell_type": "code",
      "source": [
        "넌센스, 정답 = input().split(\",\")\n",
        "print(f'넌센스 퀴즈 : {넌센스}')\n",
        "print(f'정답 : {정답}')"
      ],
      "metadata": {
        "colab": {
          "base_uri": "https://localhost:8080/"
        },
        "id": "C9uCsN0nybRy",
        "outputId": "99c767ec-78ad-4281-a5c2-688ff913b8ca"
      },
      "execution_count": null,
      "outputs": [
        {
          "output_type": "stream",
          "name": "stdout",
          "text": [
            "봄에 대학생들이 강한 이유는?, 개강하니까\n",
            "넌센스 퀴즈 : 봄에 대학생들이 강한 이유는?\n",
            "정답 :  개강하니까\n"
          ]
        }
      ]
    },
    {
      "cell_type": "code",
      "source": [
        "#시퀀스 자료형에 다 지원되는 메소드\n",
        "번호1, 번호2, 번호3, 번호4 = input().split(\",\")\n",
        "\n",
        "번호1 = int(번호1)\n",
        "번호2 = int(번호2)\n",
        "번호3 = int(번호3)\n",
        "번호4 = int(번호4)\n",
        "\n",
        "print(type(번호1), 번호2, 번호3, 번호4)"
      ],
      "metadata": {
        "colab": {
          "base_uri": "https://localhost:8080/"
        },
        "id": "9Tm5FdCMz17O",
        "outputId": "b4697644-2fa4-4d2e-ab19-3fac7226bec1"
      },
      "execution_count": null,
      "outputs": [
        {
          "output_type": "stream",
          "name": "stdout",
          "text": [
            "13579, 234, 895, 9078\n",
            "<class 'int'> 234 895 9078\n"
          ]
        }
      ]
    },
    {
      "cell_type": "code",
      "source": [
        "money = float(input(\"원금 금액을 입력해주세요. : \"))\n",
        "interest = float(input(\"연이율을 입력해주세요. : \")) / 100\n",
        "year = float(input(\"예치기간을 입력해주세요. (단위 : 년) : \"))\n",
        "total = int((money * interest * year) - money)\n",
        "print = (f'{year}간 이자 총액은 {total} 입니다.')"
      ],
      "metadata": {
        "id": "WW8UgOjOmH7n",
        "outputId": "fd6a9f16-0b75-4928-bae4-83170c18f6b7",
        "colab": {
          "base_uri": "https://localhost:8080/"
        }
      },
      "execution_count": null,
      "outputs": [
        {
          "name": "stdout",
          "output_type": "stream",
          "text": [
            "원금 금액을 입력해주세요. : 25000000\n",
            "연이율을 입력해주세요. : 6.15\n",
            "예치기간을 입력해주세요. (단위 : 년) : 3\n"
          ]
        }
      ]
    }
  ]
}