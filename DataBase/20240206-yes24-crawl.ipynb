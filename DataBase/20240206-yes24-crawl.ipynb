{
 "cells": [
  {
   "cell_type": "markdown",
   "metadata": {},
   "source": [
    "YES24 크롤링"
   ]
  },
  {
   "cell_type": "code",
   "execution_count": 1,
   "metadata": {},
   "outputs": [
    {
     "data": {
      "text/plain": [
       "'C:\\\\Users\\\\박민호\\\\.wdm\\\\drivers\\\\chromedriver\\\\win64\\\\121.0.6167.85\\\\chromedriver-win32/chromedriver.exe'"
      ]
     },
     "execution_count": 1,
     "metadata": {},
     "output_type": "execute_result"
    }
   ],
   "source": [
    "#웹드라이버 매니저 라이브러리 불러오기\n",
    "from webdriver_manager.chrome import ChromeDriverManager\n",
    "ChromeDriverManager().install()"
   ]
  },
  {
   "cell_type": "code",
   "execution_count": 2,
   "metadata": {},
   "outputs": [],
   "source": [
    "from selenium import webdriver\n",
    "browser = webdriver.Chrome()"
   ]
  },
  {
   "cell_type": "code",
   "execution_count": 3,
   "metadata": {},
   "outputs": [],
   "source": [
    "url = \"https://www.google.com\"\n",
    "browser.get(url)"
   ]
  },
  {
   "cell_type": "code",
   "execution_count": 4,
   "metadata": {},
   "outputs": [
    {
     "data": {
      "text/plain": [
       "'대한민국'"
      ]
     },
     "execution_count": 4,
     "metadata": {},
     "output_type": "execute_result"
    }
   ],
   "source": [
    "from selenium.webdriver.common.by import By\n",
    "browser.find_element(By.CLASS_NAME, 'uU7dJb').text"
   ]
  },
  {
   "cell_type": "code",
   "execution_count": 5,
   "metadata": {},
   "outputs": [],
   "source": [
    "url = \"https://www.yes24.com/Product/category/bestseller?CategoryNumber=001&sumgb=06\"\n",
    "browser.get(url)"
   ]
  },
  {
   "cell_type": "code",
   "execution_count": 33,
   "metadata": {},
   "outputs": [
    {
     "name": "stdout",
     "output_type": "stream",
     "text": [
      "https://www.yes24.com/Product/Goods/122120495\n",
      "https://www.yes24.com/Product/Goods/123675187\n",
      "https://www.yes24.com/Product/Goods/117014613\n",
      "https://www.yes24.com/Product/Goods/124043812\n",
      "https://www.yes24.com/Product/Goods/124702623\n",
      "https://www.yes24.com/Product/Goods/124043802\n",
      "https://www.yes24.com/Product/Goods/122090360\n",
      "https://www.yes24.com/Product/Goods/123400303\n",
      "https://www.yes24.com/Product/Goods/122944685\n",
      "https://www.yes24.com/Product/Goods/118579613\n",
      "https://www.yes24.com/Product/Goods/124539805\n",
      "https://www.yes24.com/Product/Goods/124110821\n",
      "https://www.yes24.com/Product/Goods/124112599\n",
      "https://www.yes24.com/Product/Goods/122428190\n",
      "https://www.yes24.com/Product/Goods/118413014\n",
      "https://www.yes24.com/Product/Goods/119458052\n",
      "https://www.yes24.com/Product/Goods/119562091\n",
      "https://www.yes24.com/Product/Goods/124702605\n",
      "https://www.yes24.com/Product/Goods/124501342\n",
      "https://www.yes24.com/Product/Goods/124849202\n",
      "https://www.yes24.com/Product/Goods/119120517\n",
      "https://www.yes24.com/Product/Goods/124707232\n",
      "https://www.yes24.com/Product/Goods/79297023\n",
      "https://www.yes24.com/Product/Goods/124574394\n"
     ]
    }
   ],
   "source": [
    "# 1페이지의 링크 데이터 전부 수집하기\n",
    "\n",
    "# 아래꺼는 한개의 베스트셀러 링크만 가져온다\n",
    "browser.find_element(By.CLASS_NAME, 'gd_name').get_attribute('href')\n",
    "\n",
    "# 1페이지 전체의 링크데이터\n",
    "# browser.find_element(By.CLASS_NAME, 'gd_name') # element : 요소\n",
    "datas = browser.find_elements(By.CLASS_NAME, 'gd_name') # elements : 리스트\n",
    "\n",
    "for i in datas:\n",
    "    print(i.get_attribute('href'))"
   ]
  },
  {
   "cell_type": "code",
   "execution_count": 6,
   "metadata": {},
   "outputs": [
    {
     "name": "stdout",
     "output_type": "stream",
     "text": [
      "https://www.yes24.com/Product/Category/BestSeller?categoryNumber=001&pageNumber=1&pageSize=24\n",
      "https://www.yes24.com/Product/Category/BestSeller?categoryNumber=001&pageNumber=2&pageSize=24\n",
      "https://www.yes24.com/Product/Category/BestSeller?categoryNumber=001&pageNumber=3&pageSize=24\n"
     ]
    }
   ],
   "source": [
    "# 페이지 넘버가 바뀌는지 체크\n",
    "for i in range(1,4):\n",
    "    url = f'https://www.yes24.com/Product/Category/BestSeller?categoryNumber=001&pageNumber={i}&pageSize=24'\n",
    "    print(url)"
   ]
  },
  {
   "cell_type": "code",
   "execution_count": 7,
   "metadata": {},
   "outputs": [
    {
     "name": "stdout",
     "output_type": "stream",
     "text": [
      "현재1 페이지 수집중입니다.\n",
      "현재2 페이지 수집중입니다.\n",
      "현재3 페이지 수집중입니다.\n",
      "['https://www.yes24.com/Product/Goods/122120495', 'https://www.yes24.com/Product/Goods/123675187', 'https://www.yes24.com/Product/Goods/117014613', 'https://www.yes24.com/Product/Goods/124702623', 'https://www.yes24.com/Product/Goods/124043812', 'https://www.yes24.com/Product/Goods/124043802', 'https://www.yes24.com/Product/Goods/123400303', 'https://www.yes24.com/Product/Goods/122090360', 'https://www.yes24.com/Product/Goods/122944685', 'https://www.yes24.com/Product/Goods/118579613', 'https://www.yes24.com/Product/Goods/124539805', 'https://www.yes24.com/Product/Goods/124110821', 'https://www.yes24.com/Product/Goods/118413014', 'https://www.yes24.com/Product/Goods/122428190', 'https://www.yes24.com/Product/Goods/124112599', 'https://www.yes24.com/Product/Goods/124644663', 'https://www.yes24.com/Product/Goods/124702605', 'https://www.yes24.com/Product/Goods/119458052', 'https://www.yes24.com/Product/Goods/124849202', 'https://www.yes24.com/Product/Goods/119562091', 'https://www.yes24.com/Product/Goods/124644681', 'https://www.yes24.com/Product/Goods/124501342', 'https://www.yes24.com/Product/Goods/119120517', 'https://www.yes24.com/Product/Goods/124707232', 'https://www.yes24.com/Product/Goods/79297023', 'https://www.yes24.com/Product/Goods/124472824', 'https://www.yes24.com/Product/Goods/124397623', 'https://www.yes24.com/Product/Goods/124574394', 'https://www.yes24.com/Product/Goods/123318244', 'https://www.yes24.com/Product/Goods/124408170', 'https://www.yes24.com/Product/Goods/122880691', 'https://www.yes24.com/Product/Goods/96072143', 'https://www.yes24.com/Product/Goods/124807552', 'https://www.yes24.com/Product/Goods/122426425', 'https://www.yes24.com/Product/Goods/122433629', 'https://www.yes24.com/Product/Goods/124127709', 'https://www.yes24.com/Product/Goods/9349031', 'https://www.yes24.com/Product/Goods/124719615', 'https://www.yes24.com/Product/Goods/123930891', 'https://www.yes24.com/Product/Goods/8759796', 'https://www.yes24.com/Product/Goods/118569079', 'https://www.yes24.com/Product/Goods/79208821', 'https://www.yes24.com/Product/Goods/123930880', 'https://www.yes24.com/Product/Goods/116467955', 'https://www.yes24.com/Product/Goods/124301348', 'https://www.yes24.com/Product/Goods/67362730', 'https://www.yes24.com/Product/Goods/90428162', 'https://www.yes24.com/Product/Goods/124717965', 'https://www.yes24.com/Product/Goods/124014108', 'https://www.yes24.com/Product/Goods/124106975', 'https://www.yes24.com/Product/Goods/124716172', 'https://www.yes24.com/Product/Goods/124213903', 'https://www.yes24.com/Product/Goods/124339743', 'https://www.yes24.com/Product/Goods/124852714', 'https://www.yes24.com/Product/Goods/124645703', 'https://www.yes24.com/Product/Goods/121911671', 'https://www.yes24.com/Product/Goods/124644662', 'https://www.yes24.com/Product/Goods/91868954', 'https://www.yes24.com/Product/Goods/124157362', 'https://www.yes24.com/Product/Goods/124702295', 'https://www.yes24.com/Product/Goods/123623040', 'https://www.yes24.com/Product/Goods/114853233', 'https://www.yes24.com/Product/Goods/123676271', 'https://www.yes24.com/Product/Goods/124027690', 'https://www.yes24.com/Product/Goods/123623043', 'https://www.yes24.com/Product/Goods/124733569', 'https://www.yes24.com/Product/Goods/124106985', 'https://www.yes24.com/Product/Goods/124315134', 'https://www.yes24.com/Product/Goods/120761010', 'https://www.yes24.com/Product/Goods/118578901', 'https://www.yes24.com/Product/Goods/124219505', 'https://www.yes24.com/Product/Goods/96794060']\n"
     ]
    }
   ],
   "source": [
    "# 3페이지까지의 링크 데이터 전부 수집\n",
    "import time\n",
    "\n",
    "link_list = []\n",
    "for i in range(1,4):\n",
    "    print(f'현재{i} 페이지 수집중입니다.')\n",
    "    url = f'https://www.yes24.com/Product/Category/BestSeller?categoryNumber=001&pageNumber={i}&pageSize=24'\n",
    "    browser.get(url)\n",
    "\n",
    "    datas = browser.find_elements(By.CLASS_NAME, 'gd_name')\n",
    "\n",
    "    for i in datas:\n",
    "        link = i.get_attribute('href')\n",
    "        link_list.append(link)\n",
    "\n",
    "    time.sleep(5) # 인터벌을 두어서 막히지 않게끔 하자.\n",
    "\n",
    "print(link_list)"
   ]
  },
  {
   "cell_type": "code",
   "execution_count": 8,
   "metadata": {},
   "outputs": [
    {
     "data": {
      "text/plain": [
       "72"
      ]
     },
     "execution_count": 8,
     "metadata": {},
     "output_type": "execute_result"
    }
   ],
   "source": [
    "len(link_list) # 상품리스트가 맞게 들어왔는지 갯수 확인"
   ]
  },
  {
   "cell_type": "code",
   "execution_count": 52,
   "metadata": {},
   "outputs": [
    {
     "name": "stdout",
     "output_type": "stream",
     "text": [
      "10\n"
     ]
    }
   ],
   "source": [
    "# for link in link_list:\n",
    "    # 상세 페이지로 이동\n",
    "    #browser.get(link)\n",
    "\n",
    "# 링크로 이동을 잘 하는지 테스트\n",
    "browser.get(link_list[0])\n",
    "\n",
    "title = browser.find_element(By.CLASS_NAME, 'gd_name').text\n",
    "author = browser.find_element(By.CLASS_NAME, 'gd_auth').text\n",
    "publisher = browser.find_element(By.CLASS_NAME, 'gd_pub').text\n",
    "publishing = browser.find_element(By.CLASS_NAME, 'gd_date').text\n",
    "rating = browser.find_element(By.CLASS_NAME, 'yes_b').text\n",
    "review = browser.find_element(By.CLASS_NAME, 'txC_blue').text\n",
    "sales = browser.find_element(By.CLASS_NAME, 'gd_sellNum').text.split(' ')[2] # split 을 사용하여 숫자의 위치를 찾아 표출하기\n",
    "price = browser.find_element(By.CLASS_NAME, 'yes_m').text[:-1] #뒤에 붙은 원을 빼기 위해 끝에서 첫번째칸까지만 가져오게 명령시키기\n",
    "gd_best = browser.find_element(By.CLASS_NAME, 'gd_best.gd_best_tp02').text.split(' ')\n",
    "if 3 < len(gd_best) < 8:\n",
    "    ranking = gd_best[2][:-1]\n",
    "    ranking_weeks = gd_best[6][:-1]\n",
    "else :\n",
    "    ranking = gd_best[2][:-1]\n",
    "    ranking_weeks = '0'\n",
    "\n",
    "title, author, publisher, publishing, rating, review, sales, price, ranking, ranking_weeks\n",
    "print(ranking_weeks)"
   ]
  },
  {
   "cell_type": "code",
   "execution_count": 44,
   "metadata": {},
   "outputs": [
    {
     "data": {
      "text/plain": [
       "range(0, 3)"
      ]
     },
     "execution_count": 44,
     "metadata": {},
     "output_type": "execute_result"
    }
   ],
   "source": [
    "range(len(gd_best))"
   ]
  },
  {
   "cell_type": "code",
   "execution_count": 192,
   "metadata": {},
   "outputs": [
    {
     "data": {
      "text/plain": [
       "'베스트 국내도서 12위'"
      ]
     },
     "execution_count": 192,
     "metadata": {},
     "output_type": "execute_result"
    }
   ],
   "source": [
    "browser.find_element(By.CLASS_NAME, 'gd_best').text"
   ]
  },
  {
   "cell_type": "code",
   "execution_count": 179,
   "metadata": {},
   "outputs": [
    {
     "data": {
      "text/plain": [
       "\"'베스트 국내도서 1위\""
      ]
     },
     "execution_count": 179,
     "metadata": {},
     "output_type": "execute_result"
    }
   ],
   "source": [
    "text = \"'베스트 국내도서 1위 | 국내도서 1위 9주'\"\n",
    "\n",
    "text.split(' | ')[0]"
   ]
  },
  {
   "cell_type": "code",
   "execution_count": 11,
   "metadata": {},
   "outputs": [
    {
     "ename": "IndexError",
     "evalue": "list index out of range",
     "output_type": "error",
     "traceback": [
      "\u001b[1;31m---------------------------------------------------------------------------\u001b[0m",
      "\u001b[1;31mIndexError\u001b[0m                                Traceback (most recent call last)",
      "Cell \u001b[1;32mIn[11], line 55\u001b[0m\n\u001b[0;32m     53\u001b[0m \u001b[38;5;28;01mif\u001b[39;00m \u001b[38;5;28mlen\u001b[39m(gd_best) \u001b[38;5;241m>\u001b[39m \u001b[38;5;241m3\u001b[39m:\n\u001b[0;32m     54\u001b[0m     ranking \u001b[38;5;241m=\u001b[39m gd_best[\u001b[38;5;241m2\u001b[39m][:\u001b[38;5;241m-\u001b[39m\u001b[38;5;241m1\u001b[39m]\n\u001b[1;32m---> 55\u001b[0m     ranking_weeks \u001b[38;5;241m=\u001b[39m \u001b[43mgd_best\u001b[49m\u001b[43m[\u001b[49m\u001b[38;5;241;43m7\u001b[39;49m\u001b[43m]\u001b[49m[:\u001b[38;5;241m-\u001b[39m\u001b[38;5;241m1\u001b[39m]\n\u001b[0;32m     56\u001b[0m \u001b[38;5;28;01melse\u001b[39;00m :\n\u001b[0;32m     57\u001b[0m     ranking \u001b[38;5;241m=\u001b[39m gd_best[\u001b[38;5;241m2\u001b[39m][:\u001b[38;5;241m-\u001b[39m\u001b[38;5;241m1\u001b[39m]\n",
      "\u001b[1;31mIndexError\u001b[0m: list index out of range"
     ]
    }
   ],
   "source": [
    "# 데이터 베이스 연동 후 -> 수집한 데이터를 DB에 저장 (csv)\n",
    "import pymysql # pip install pymysql (가상환경이기에 인스톨 시키기)\n",
    "import time\n",
    "import re\n",
    "from datetime import datetime\n",
    "\n",
    "conn = pymysql.connect(\n",
    "    host='localhost',\n",
    "    user='root',\n",
    "    password='oz-password',\n",
    "    db='yes24',\n",
    "    charset='utf8mb4',\n",
    "    cursorclass=pymysql.cursors.DictCursor\n",
    ")\n",
    "\n",
    "with conn.cursor() as cur:\n",
    "    for link in link_list:\n",
    "        browser.get(link)\n",
    "\n",
    "        title = browser.find_element(By.CLASS_NAME, 'gd_name').text\n",
    "        author = browser.find_element(By.CLASS_NAME, 'gd_auth').text\n",
    "        publisher = browser.find_element(By.CLASS_NAME, 'gd_pub').text\n",
    "\n",
    "        # 날짜데이터로 변경해야 됨 (2024년 02월 02일 -> 2024-02-02)\n",
    "        publishing = browser.find_element(By.CLASS_NAME, 'gd_date').text\n",
    "        match = re.search(r'(\\d+)년 (\\d+)월 (\\d+)일', publishing)\n",
    "        if match:\n",
    "            year, month, day = match.groups()\n",
    "            data_obj = datetime(int(year), int(month), int(day))\n",
    "            publishing = data_obj.strftime('%Y-%m-%d')\n",
    "        else:\n",
    "            publishing = '2024-01-01'\n",
    "\n",
    "        rating = browser.find_element(By.CLASS_NAME, 'yes_b').text\n",
    "        if rating == '' : # 순위권 신규진입 상품은 별점이 없기에 해당 조건 추가.\n",
    "            rating = 0\n",
    "\n",
    "        review = browser.find_element(By.CLASS_NAME, 'gd_reviewCount').text\n",
    "        if len(review) == 15 : # 리뷰가 없어 '첫번째 리뷰어가 되어주세요'가 나오는 상품(순위권 신규진입 상품) 때문에 여기도 건들어야\n",
    "            review = 0\n",
    "        else :\n",
    "            review = review.split(\"(\")[1][:-2]\n",
    "            review = int(review.replace(\",\",\"\"))            \n",
    "                        \n",
    "        sales = browser.find_element(By.CLASS_NAME, 'gd_sellNum').text.split(' ')[2]\n",
    "        sales = int(sales.replace(',',''))\n",
    "\n",
    "        price = browser.find_element(By.CLASS_NAME, 'yes_m').text[:-1]\n",
    "        price = int(price.replace(',',''))\n",
    "\n",
    "        # 순위 문구 안에 있는 숫자만 빼오기 위해 여러 사람 괴롭힌 부분. 결국에는 도움 받았다.\n",
    "        gd_best = browser.find_element(By.CLASS_NAME, 'gd_best.gd_best_tp02').text.split(' ')\n",
    "        if 3 < len(gd_best) < 8:\n",
    "            ranking = gd_best[2][:-1]\n",
    "            ranking_weeks = gd_best[6][:-1]\n",
    "        else :\n",
    "            ranking = gd_best[2][:-1]\n",
    "            ranking_weeks = '0'\n",
    "\n",
    "        sql = '''insert into Books(\n",
    "        title, author, publisher, publishing, rating, review, sales, price, ranking, ranking_weeks\n",
    "        )\n",
    "        values(\n",
    "        %s, %s, %s, %s, %s, %s, %s, %s, %s, %s\n",
    "        )'''\n",
    "\n",
    "        cur.execute(sql, (title, author, publisher, publishing, rating, review, sales, price, ranking, ranking_weeks))\n",
    "        conn.commit()\n",
    "        \n",
    "        time.sleep(2)"
   ]
  },
  {
   "cell_type": "code",
   "execution_count": 10,
   "metadata": {},
   "outputs": [
    {
     "name": "stdout",
     "output_type": "stream",
     "text": [
      "2024-02-05\n"
     ]
    }
   ],
   "source": [
    "# 발행일 날짜 입력이 안되어서 눈알 빠지게 찾아서 수정. 복사해서 위 코드로 옮겨넣음.\n",
    "\n",
    "publishing = browser.find_element(By.CLASS_NAME, 'gd_date').text\n",
    "match = re.search(r'(\\d+)년 (\\d+)월 (\\d+)일', publishing)\n",
    "if match:\n",
    "    year, month, day = match.groups()\n",
    "    data_obj = datetime(int(year), int(month), int(day))\n",
    "    publishing = data_obj.strftime('%Y-%m-%d')\n",
    "else:\n",
    "    publishing = '2024-01-01'\n",
    "\n",
    "print(publishing)"
   ]
  }
 ],
 "metadata": {
  "kernelspec": {
   "display_name": "Python 3",
   "language": "python",
   "name": "python3"
  },
  "language_info": {
   "codemirror_mode": {
    "name": "ipython",
    "version": 3
   },
   "file_extension": ".py",
   "mimetype": "text/x-python",
   "name": "python",
   "nbconvert_exporter": "python",
   "pygments_lexer": "ipython3",
   "version": "3.12.1"
  }
 },
 "nbformat": 4,
 "nbformat_minor": 2
}
