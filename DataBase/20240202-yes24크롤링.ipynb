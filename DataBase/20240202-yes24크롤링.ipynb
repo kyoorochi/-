{
 "cells": [
  {
   "cell_type": "markdown",
   "metadata": {},
   "source": [
    "YES24 크롤링"
   ]
  },
  {
   "cell_type": "code",
   "execution_count": 2,
   "metadata": {},
   "outputs": [
    {
     "data": {
      "text/plain": [
       "'C:\\\\Users\\\\박민호\\\\.wdm\\\\drivers\\\\chromedriver\\\\win64\\\\121.0.6167.85\\\\chromedriver-win32/chromedriver.exe'"
      ]
     },
     "execution_count": 2,
     "metadata": {},
     "output_type": "execute_result"
    }
   ],
   "source": [
    "#웹드라이버 매니저 라이브러리 불러오기\n",
    "from webdriver_manager.chrome import ChromeDriverManager\n",
    "ChromeDriverManager().install()"
   ]
  },
  {
   "cell_type": "code",
   "execution_count": 2,
   "metadata": {},
   "outputs": [],
   "source": [
    "from selenium import webdriver\n",
    "browser = webdriver.Chrome()"
   ]
  },
  {
   "cell_type": "code",
   "execution_count": 3,
   "metadata": {},
   "outputs": [],
   "source": [
    "url = \"https://www.google.com\"\n",
    "browser.get(url)"
   ]
  },
  {
   "cell_type": "code",
   "execution_count": 4,
   "metadata": {},
   "outputs": [
    {
     "data": {
      "text/plain": [
       "'대한민국'"
      ]
     },
     "execution_count": 4,
     "metadata": {},
     "output_type": "execute_result"
    }
   ],
   "source": [
    "from selenium.webdriver.common.by import By\n",
    "browser.find_element(By.CLASS_NAME, 'uU7dJb').text"
   ]
  },
  {
   "cell_type": "code",
   "execution_count": 5,
   "metadata": {},
   "outputs": [],
   "source": [
    "url = \"https://www.yes24.com/Product/category/bestseller?CategoryNumber=001&sumgb=06\"\n",
    "browser.get(url)"
   ]
  },
  {
   "cell_type": "code",
   "execution_count": 6,
   "metadata": {},
   "outputs": [
    {
     "name": "stdout",
     "output_type": "stream",
     "text": [
      "https://www.yes24.com/Product/Goods/122120495\n",
      "https://www.yes24.com/Product/Goods/123675187\n",
      "https://www.yes24.com/Product/Goods/117014613\n",
      "https://www.yes24.com/Product/Goods/124043812\n",
      "https://www.yes24.com/Product/Goods/124043802\n",
      "https://www.yes24.com/Product/Goods/122090360\n",
      "https://www.yes24.com/Product/Goods/123400303\n",
      "https://www.yes24.com/Product/Goods/122944685\n",
      "https://www.yes24.com/Product/Goods/124702623\n",
      "https://www.yes24.com/Product/Goods/124112599\n",
      "https://www.yes24.com/Product/Goods/118579613\n",
      "https://www.yes24.com/Product/Goods/124574394\n",
      "https://www.yes24.com/Product/Goods/124501342\n",
      "https://www.yes24.com/Product/Goods/124539805\n",
      "https://www.yes24.com/Product/Goods/119562091\n",
      "https://www.yes24.com/Product/Goods/124408170\n",
      "https://www.yes24.com/Product/Goods/122428190\n",
      "https://www.yes24.com/Product/Goods/119458052\n",
      "https://www.yes24.com/Product/Goods/118413014\n",
      "https://www.yes24.com/Product/Goods/123930891\n",
      "https://www.yes24.com/Product/Goods/124707232\n",
      "https://www.yes24.com/Product/Goods/122426425\n",
      "https://www.yes24.com/Product/Goods/123930880\n",
      "https://www.yes24.com/Product/Goods/79297023\n"
     ]
    }
   ],
   "source": [
    "# 1페이지의 링크 데이터 전부 수집하기\n",
    "\n",
    "# 아래꺼는 한개의 베스트셀러 링크만 가져온다\n",
    "browser.find_element(By.CLASS_NAME, 'gd_name').get_attribute('href')\n",
    "\n",
    "# 1페이지 전체의 링크데이터\n",
    "# browser.find_element(By.CLASS_NAME, 'gd_name') # element : 요소\n",
    "datas = browser.find_elements(By.CLASS_NAME, 'gd_name') # elements : 리스트\n",
    "\n",
    "for i in datas:\n",
    "    print(i.get_attribute('href'))"
   ]
  },
  {
   "cell_type": "code",
   "execution_count": 7,
   "metadata": {},
   "outputs": [
    {
     "name": "stdout",
     "output_type": "stream",
     "text": [
      "현재1 페이지 수집중입니다.\n",
      "현재2 페이지 수집중입니다.\n",
      "현재3 페이지 수집중입니다.\n",
      "['https://www.yes24.com/Product/Goods/122120495', 'https://www.yes24.com/Product/Goods/123675187', 'https://www.yes24.com/Product/Goods/117014613', 'https://www.yes24.com/Product/Goods/124043812', 'https://www.yes24.com/Product/Goods/124043802', 'https://www.yes24.com/Product/Goods/122090360', 'https://www.yes24.com/Product/Goods/123400303', 'https://www.yes24.com/Product/Goods/122944685', 'https://www.yes24.com/Product/Goods/124702623', 'https://www.yes24.com/Product/Goods/124112599', 'https://www.yes24.com/Product/Goods/118579613', 'https://www.yes24.com/Product/Goods/124574394', 'https://www.yes24.com/Product/Goods/124501342', 'https://www.yes24.com/Product/Goods/124539805', 'https://www.yes24.com/Product/Goods/119562091', 'https://www.yes24.com/Product/Goods/124408170', 'https://www.yes24.com/Product/Goods/122428190', 'https://www.yes24.com/Product/Goods/119458052', 'https://www.yes24.com/Product/Goods/118413014', 'https://www.yes24.com/Product/Goods/123930891', 'https://www.yes24.com/Product/Goods/124707232', 'https://www.yes24.com/Product/Goods/122426425', 'https://www.yes24.com/Product/Goods/123930880', 'https://www.yes24.com/Product/Goods/79297023', 'https://www.yes24.com/Product/Goods/124719615', 'https://www.yes24.com/Product/Goods/119120517', 'https://www.yes24.com/Product/Goods/124397623', 'https://www.yes24.com/Product/Goods/123318244', 'https://www.yes24.com/Product/Goods/122880691', 'https://www.yes24.com/Product/Goods/124472824', 'https://www.yes24.com/Product/Goods/124347651', 'https://www.yes24.com/Product/Goods/118569079', 'https://www.yes24.com/Product/Goods/124733569', 'https://www.yes24.com/Product/Goods/67362730', 'https://www.yes24.com/Product/Goods/8759796', 'https://www.yes24.com/Product/Goods/124717965', 'https://www.yes24.com/Product/Goods/124645703', 'https://www.yes24.com/Product/Goods/124127709', 'https://www.yes24.com/Product/Goods/116467955', 'https://www.yes24.com/Product/Goods/124702605', 'https://www.yes24.com/Product/Goods/114853233', 'https://www.yes24.com/Product/Goods/122433629', 'https://www.yes24.com/Product/Goods/79208821', 'https://www.yes24.com/Product/Goods/124027690', 'https://www.yes24.com/Product/Goods/9349031', 'https://www.yes24.com/Product/Goods/124184330', 'https://www.yes24.com/Product/Goods/124157362', 'https://www.yes24.com/Product/Goods/90428162', 'https://www.yes24.com/Product/Goods/124702004', 'https://www.yes24.com/Product/Goods/124702295', 'https://www.yes24.com/Product/Goods/120785860', 'https://www.yes24.com/Product/Goods/91868954', 'https://www.yes24.com/Product/Goods/120761010', 'https://www.yes24.com/Product/Goods/118578901', 'https://www.yes24.com/Product/Goods/124518483', 'https://www.yes24.com/Product/Goods/124014108', 'https://www.yes24.com/Product/Goods/124106975', 'https://www.yes24.com/Product/Goods/123676271', 'https://www.yes24.com/Product/Goods/124219505', 'https://www.yes24.com/Product/Goods/123623040', 'https://www.yes24.com/Product/Goods/124644662', 'https://www.yes24.com/Product/Goods/123623043', 'https://www.yes24.com/Product/Goods/124315515', 'https://www.yes24.com/Product/Goods/124315134', 'https://www.yes24.com/Product/Goods/124219508', 'https://www.yes24.com/Product/Goods/96072143', 'https://www.yes24.com/Product/Goods/106369008', 'https://www.yes24.com/Product/Goods/124300539', 'https://www.yes24.com/Product/Goods/124339743', 'https://www.yes24.com/Product/Goods/124393292', 'https://www.yes24.com/Product/Goods/123876440', 'https://www.yes24.com/Product/Goods/121911671']\n"
     ]
    }
   ],
   "source": [
    "# 3페이지까지의 링크 데이터 전부 수집\\\n",
    "import time\n",
    "\n",
    "link_list = []\n",
    "for i in range(1,4):\n",
    "    print(f'현재{i} 페이지 수집중입니다.')\n",
    "    url = f'https://www.yes24.com/Product/Category/BestSeller?categoryNumber=001&pageNumber={i}&pageSize=24'\n",
    "    browser.get(url)\n",
    "\n",
    "    datas = browser.find_elements(By.CLASS_NAME, 'gd_name')\n",
    "\n",
    "    for i in datas:\n",
    "        link = i.get_attribute('href')\n",
    "        link_list.append(link)\n",
    "\n",
    "    time.sleep(5) # 인터벌을 두어서 막히지 않게끔 하자.\n",
    "\n",
    "print(link_list)"
   ]
  },
  {
   "cell_type": "code",
   "execution_count": 8,
   "metadata": {},
   "outputs": [
    {
     "data": {
      "text/plain": [
       "72"
      ]
     },
     "execution_count": 8,
     "metadata": {},
     "output_type": "execute_result"
    }
   ],
   "source": [
    "len(link_list) # 상품리스트가 맞게 들어왔는지 갯수 확인"
   ]
  },
  {
   "cell_type": "code",
   "execution_count": 38,
   "metadata": {},
   "outputs": [
    {
     "ename": "IndexError",
     "evalue": "list index out of range",
     "output_type": "error",
     "traceback": [
      "\u001b[1;31m---------------------------------------------------------------------------\u001b[0m",
      "\u001b[1;31mIndexError\u001b[0m                                Traceback (most recent call last)",
      "Cell \u001b[1;32mIn[38], line 17\u001b[0m\n\u001b[0;32m      6\u001b[0m browser\u001b[38;5;241m.\u001b[39mget(link_list[\u001b[38;5;241m0\u001b[39m])\n\u001b[0;32m      8\u001b[0m \u001b[38;5;66;03m# title = browser.find_element(By.CLASS_NAME, 'gd_name').text\u001b[39;00m\n\u001b[0;32m      9\u001b[0m \u001b[38;5;66;03m# author = browser.find_element(By.CLASS_NAME, 'gd_auth').text\u001b[39;00m\n\u001b[0;32m     10\u001b[0m \u001b[38;5;66;03m# publisher = browser.find_element(By.CLASS_NAME, 'gd_pub').text\u001b[39;00m\n\u001b[1;32m   (...)\u001b[0m\n\u001b[0;32m     15\u001b[0m \u001b[38;5;66;03m# price = browser.find_element(By.CLASS_NAME, 'yes_m').text[:-1] #뒤에 붙은 원을 빼기 위해 끝에서 첫번째칸까지만 가져오게 명령시키기\u001b[39;00m\n\u001b[0;32m     16\u001b[0m \u001b[38;5;66;03m# ranking = browser.find_element(By.CLASS_NAME, 'gd_best').text.split(' | ')[0]\u001b[39;00m\n\u001b[1;32m---> 17\u001b[0m ranking_weeks \u001b[38;5;241m=\u001b[39m \u001b[43mbrowser\u001b[49m\u001b[38;5;241;43m.\u001b[39;49m\u001b[43mfind_element\u001b[49m\u001b[43m(\u001b[49m\u001b[43mBy\u001b[49m\u001b[38;5;241;43m.\u001b[39;49m\u001b[43mCLASS_NAME\u001b[49m\u001b[43m,\u001b[49m\u001b[43m \u001b[49m\u001b[38;5;124;43m'\u001b[39;49m\u001b[38;5;124;43mgd_best\u001b[39;49m\u001b[38;5;124;43m'\u001b[39;49m\u001b[43m)\u001b[49m\u001b[38;5;241;43m.\u001b[39;49m\u001b[43mtext\u001b[49m\u001b[38;5;241;43m.\u001b[39;49m\u001b[43msplit\u001b[49m\u001b[43m(\u001b[49m\u001b[38;5;124;43m'\u001b[39;49m\u001b[38;5;124;43m | \u001b[39;49m\u001b[38;5;124;43m'\u001b[39;49m\u001b[43m)\u001b[49m\u001b[43m[\u001b[49m\u001b[38;5;241;43m1\u001b[39;49m\u001b[43m]\u001b[49m\n\u001b[0;32m     19\u001b[0m ranking_weeks\n",
      "\u001b[1;31mIndexError\u001b[0m: list index out of range"
     ]
    }
   ],
   "source": [
    "# for link in link_list:\n",
    "    # 상세 페이지로 이동\n",
    "    #browser.get(link)\n",
    "\n",
    "# 링크로 이동을 잘 하는지 테스트\n",
    "browser.get(link_list[0])\n",
    "\n",
    "# title = browser.find_element(By.CLASS_NAME, 'gd_name').text\n",
    "# author = browser.find_element(By.CLASS_NAME, 'gd_auth').text\n",
    "# publisher = browser.find_element(By.CLASS_NAME, 'gd_pub').text\n",
    "# publishing = browser.find_element(By.CLASS_NAME, 'gd_date').text\n",
    "# rating = browser.find_element(By.CLASS_NAME, 'yes_b').text\n",
    "# review = browser.find_element(By.CLASS_NAME, 'txC_blue').text\n",
    "# sales = browser.find_element(By.CLASS_NAME, 'gd_sellNum').text.split(' ')[2] # split 을 사용하여 숫자의 위치를 찾아 표출하기\n",
    "# price = browser.find_element(By.CLASS_NAME, 'yes_m').text[:-1] #뒤에 붙은 원을 빼기 위해 끝에서 첫번째칸까지만 가져오게 명령시키기\n",
    "# ranking = browser.find_element(By.CLASS_NAME, 'gd_best').text.split(' | ')[0]\n",
    "ranking_weeks = browser.find_element(By.CLASS_NAME, 'gd_best').text.split(' | ')[1]\n",
    "\n",
    "ranking_weeks"
   ]
  },
  {
   "cell_type": "code",
   "execution_count": 35,
   "metadata": {},
   "outputs": [
    {
     "data": {
      "text/plain": [
       "'베스트 국내도서 1위 국내도서 1위 9주'"
      ]
     },
     "execution_count": 35,
     "metadata": {},
     "output_type": "execute_result"
    }
   ],
   "source": [
    "browser.find_element(By.CLASS_NAME, 'gd_best').text"
   ]
  },
  {
   "cell_type": "code",
   "execution_count": 25,
   "metadata": {},
   "outputs": [
    {
     "data": {
      "text/plain": [
       "\"'베스트 국내도서 1위\""
      ]
     },
     "execution_count": 25,
     "metadata": {},
     "output_type": "execute_result"
    }
   ],
   "source": [
    "text = \"'베스트 국내도서 1위 | 국내도서 1위 9주'\"\n",
    "\n",
    "text.split(' | ')[0]"
   ]
  },
  {
   "cell_type": "code",
   "execution_count": 1,
   "metadata": {},
   "outputs": [
    {
     "ename": "NameError",
     "evalue": "name 'browser' is not defined",
     "output_type": "error",
     "traceback": [
      "\u001b[1;31m---------------------------------------------------------------------------\u001b[0m",
      "\u001b[1;31mNameError\u001b[0m                                 Traceback (most recent call last)",
      "Cell \u001b[1;32mIn[1], line 17\u001b[0m\n\u001b[0;32m      7\u001b[0m conn \u001b[38;5;241m=\u001b[39m pymysql\u001b[38;5;241m.\u001b[39mconnect(\n\u001b[0;32m      8\u001b[0m     host\u001b[38;5;241m=\u001b[39m\u001b[38;5;124m'\u001b[39m\u001b[38;5;124mlocalhost\u001b[39m\u001b[38;5;124m'\u001b[39m,\n\u001b[0;32m      9\u001b[0m     user\u001b[38;5;241m=\u001b[39m\u001b[38;5;124m'\u001b[39m\u001b[38;5;124mroot\u001b[39m\u001b[38;5;124m'\u001b[39m,\n\u001b[1;32m   (...)\u001b[0m\n\u001b[0;32m     13\u001b[0m     cursorclass\u001b[38;5;241m=\u001b[39mpymysql\u001b[38;5;241m.\u001b[39mcursors\u001b[38;5;241m.\u001b[39mDictCursor\n\u001b[0;32m     14\u001b[0m )\n\u001b[0;32m     16\u001b[0m \u001b[38;5;28;01mwith\u001b[39;00m conn\u001b[38;5;241m.\u001b[39mcursor() \u001b[38;5;28;01mas\u001b[39;00m cur:\n\u001b[1;32m---> 17\u001b[0m     \u001b[43mbrowser\u001b[49m\u001b[38;5;241m.\u001b[39mget(link)\n\u001b[0;32m     19\u001b[0m     title \u001b[38;5;241m=\u001b[39m browser\u001b[38;5;241m.\u001b[39mfind_element(By\u001b[38;5;241m.\u001b[39mCLASS_NAME, \u001b[38;5;124m'\u001b[39m\u001b[38;5;124mgd_name\u001b[39m\u001b[38;5;124m'\u001b[39m)\u001b[38;5;241m.\u001b[39mtext\n\u001b[0;32m     20\u001b[0m     author \u001b[38;5;241m=\u001b[39m browser\u001b[38;5;241m.\u001b[39mfind_element(By\u001b[38;5;241m.\u001b[39mCLASS_NAME, \u001b[38;5;124m'\u001b[39m\u001b[38;5;124mgd_auth\u001b[39m\u001b[38;5;124m'\u001b[39m)\u001b[38;5;241m.\u001b[39mtext\n",
      "\u001b[1;31mNameError\u001b[0m: name 'browser' is not defined"
     ]
    }
   ],
   "source": [
    "# 데이터 베이스 연동 후 -> 수집한 데이터를 DB에 저장 (csv)\n",
    "import pymysql # pip install pymysql (가상환경이기에 인스톨 시키기)\n",
    "import time\n",
    "import re\n",
    "from datetime import datetime\n",
    "\n",
    "conn = pymysql.connect(\n",
    "    host='localhost',\n",
    "    user='root',\n",
    "    password='oz-password',\n",
    "    db='yes24',\n",
    "    charset='utf8mb4',\n",
    "    cursorclass=pymysql.cursors.DictCursor\n",
    ")\n",
    "\n",
    "with conn.cursor() as cur:\n",
    "    browser.get(link)\n",
    "\n",
    "    title = browser.find_element(By.CLASS_NAME, 'gd_name').text\n",
    "    author = browser.find_element(By.CLASS_NAME, 'gd_auth').text\n",
    "    publisher = browser.find_element(By.CLASS_NAME, 'gd_pub').text\n",
    "\n",
    "    # 날짜데이터로 변경해야 됨 (2024년 02월 02일 -> 2024-02-02)\n",
    "    publishing = browser.find_element(By.CLASS_NAME, 'gd_date').text\n",
    "\n",
    "    match = re.search(r'(\\+d+)년 (\\+d+)월 (\\+d+)일', publishing)\n",
    "\n",
    "    if match:\n",
    "        year, month, day = match.groups()\n",
    "        data_obj = datetime(int(year), int(month), int(day))\n",
    "        publishing = data_obj.strftime('%Y-%m-%d')\n",
    "    else:\n",
    "        publishing = '2024-01-01'\n",
    "\n",
    "    rating = browser.find_element(By.CLASS_NAME, 'yes_b').text\n",
    "\n",
    "    review = browser.find_element(By.CLASS_NAME, 'txC_blue').text\n",
    "    review = int(review.replace(',',''))\n",
    "\n",
    "    sales = browser.find_element(By.CLASS_NAME, 'gd_sellNum').text.split(' ')[2]\n",
    "    sales = int(sales.replace(',',''))\n",
    "\n",
    "    price = browser.find_element(By.CLASS_NAME, 'yes_m').text[:-1]\n",
    "    price = int(price.replace(',',''))\n",
    "\n",
    "    full_text = browser.find_element(By.CLASS_NAME, 'gd_best').text\n",
    "    print('full_text : ' , full_text)\n",
    "    parts = full_text.split(' | ')\n",
    "\n",
    "    if len(parts) == 1:\n",
    "        ranking = 0\n",
    "        ranking_weeks = 0\n",
    "\n",
    "    try:        \n",
    "        ranking_part = parts[0]\n",
    "        ranking = ''.join(filter(str.isdigit, ranking_part)) # 숫자만 추출\n",
    "    except:\n",
    "        ranking = 0\n",
    "\n",
    "    try:\n",
    "        ranking_weeks_part = parts[1]\n",
    "        ranking_weeks = ''.join(filter(str.isdigit, ranking_weeks_part.split()[-1]))\n",
    "    except:\n",
    "        ranking_weeks = 0\n",
    "\n",
    "    for i in link_list:\n",
    "        sql = '''insert into Books(\n",
    "            title, author, publisher, publishing, rating, review, sales, price, ranking, ranking_weeks\n",
    "            )\n",
    "            values(\n",
    "            %s, %s, %s, %s, %s, %s, %s, %s, %s, %s\n",
    "            )'''\n",
    "        cur.execute(sql, (title, author, publisher, publishing, rating, review, sales, price, ranking, ranking_weeks))\n",
    "        conn.commit()\n",
    "\n",
    "        time.sleep(2)"
   ]
  },
  {
   "cell_type": "code",
   "execution_count": null,
   "metadata": {},
   "outputs": [],
   "source": []
  }
 ],
 "metadata": {
  "kernelspec": {
   "display_name": "Python 3",
   "language": "python",
   "name": "python3"
  },
  "language_info": {
   "codemirror_mode": {
    "name": "ipython",
    "version": 3
   },
   "file_extension": ".py",
   "mimetype": "text/x-python",
   "name": "python",
   "nbconvert_exporter": "python",
   "pygments_lexer": "ipython3",
   "version": "3.12.1"
  }
 },
 "nbformat": 4,
 "nbformat_minor": 2
}
