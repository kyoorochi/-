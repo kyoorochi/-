{
  "nbformat": 4,
  "nbformat_minor": 0,
  "metadata": {
    "colab": {
      "provenance": [],
      "include_colab_link": true
    },
    "kernelspec": {
      "name": "python3",
      "display_name": "Python 3"
    },
    "language_info": {
      "name": "python"
    }
  },
  "cells": [
    {
      "cell_type": "markdown",
      "metadata": {
        "id": "view-in-github",
        "colab_type": "text"
      },
      "source": [
        "<a href=\"https://colab.research.google.com/github/kyoorochi/-/blob/main/Chapter05_08_%EA%B8%B0%EC%B4%88%EA%B3%BC%EC%A0%9C_%EB%B0%95%EB%AF%BC%ED%98%B8.ipynb\" target=\"_parent\"><img src=\"https://colab.research.google.com/assets/colab-badge.svg\" alt=\"Open In Colab\"/></a>"
      ]
    },
    {
      "cell_type": "markdown",
      "source": [
        "안녕하세요. 수강생 여러분~! Chapter05 ~ 08 수업은 잘 들으셨나요?\n",
        "\n",
        "Chapter05 ~ 08의 수업 내용을 바탕으로 아래 문제를 풀어주시면 됩니다.\n",
        "\n",
        "####**제출 방법 안내**\n",
        "상단 파일명(Chapter03_기초과제.ipynb)을 Chapter01_기초과제_000(본인이름).ipynb로 변경후 아래 링크로 접속 후 본인 이름의 폴더에 제출해주면 됩니다.\n",
        "\n",
        "제출 링크 :\n",
        "\n",
        "####**답변 입력 방법 안내**\n",
        "\"답변\"이라고 적힌란을 마우스로 더블 클릭하시면 글을 작성할 수 있습니다.\n",
        "\n",
        "텍스트에 글을 더 잘 작성하기 위해서는 마크다운 언어를 공부하시면 됩니다.\n",
        "\n",
        "**(구글 검색 창에 \"코랩 마크다운\" 검색)**"
      ],
      "metadata": {
        "id": "WXEwMsfUct7U"
      }
    },
    {
      "cell_type": "markdown",
      "source": [
        "-----"
      ],
      "metadata": {
        "id": "qoyC9wF-3hvs"
      }
    },
    {
      "cell_type": "markdown",
      "source": [
        "##문제1\n",
        "\n",
        "변수명 게임에 들어 있는 값 중 '홀'만 출력되도록 코드를 작성해 주세요\n",
        "\n",
        "게임 = \"홀짝홀짝홀짝\"\n",
        "\n",
        "출력 예시 : \"홀홀홀\"\n"
      ],
      "metadata": {
        "id": "rAD_O3Gmc_43"
      }
    },
    {
      "cell_type": "code",
      "source": [
        "게임 = \"홀짝홀짝홀짝\"\n",
        "print (게임[::2])"
      ],
      "metadata": {
        "id": "74wtVQFFc_h1",
        "colab": {
          "base_uri": "https://localhost:8080/"
        },
        "outputId": "77464575-77e8-4eda-e295-2d18369448ae"
      },
      "execution_count": 1,
      "outputs": [
        {
          "output_type": "stream",
          "name": "stdout",
          "text": [
            "홀홀홀\n"
          ]
        }
      ]
    },
    {
      "cell_type": "markdown",
      "source": [
        "##문제2\n",
        "\n",
        "변수명 전화번호에 들어 있는 번호를 모두 붙여서 출력되도록 코드를 작성해주세요\n",
        "\n",
        "전화번호 = \"010-1234-5678\"\n",
        "\n",
        "출력 예시 : \"01012345678\""
      ],
      "metadata": {
        "id": "3uK_auXYdgk2"
      }
    },
    {
      "cell_type": "code",
      "source": [
        "전화번호 = \"010-1234-5678\"\n",
        "#len(전화번호)\n",
        "print (전화번호[0:3] + 전화번호[4:8] + 전화번호[9:13])"
      ],
      "metadata": {
        "id": "9kvBxa6PdhgA",
        "colab": {
          "base_uri": "https://localhost:8080/"
        },
        "outputId": "f28a8133-89cf-4507-80a5-56404e582a02"
      },
      "execution_count": 14,
      "outputs": [
        {
          "output_type": "stream",
          "name": "stdout",
          "text": [
            "01012345678\n"
          ]
        }
      ]
    },
    {
      "cell_type": "markdown",
      "source": [
        "##문제3\n",
        "\n",
        "창의성, 시장성, 안정성, 수익성에 대한 각각의 평가 중 아래 기준에 부합하지 못하면 창업지원을 받을 수 없습니다.\n",
        "\n",
        "- 수익성 60점 이상\n",
        "- 창의성과 시장성 50점 이상\n",
        "- 시장성과 수익성을 더한 값의 절반이 안정성 보다 높아야 함\n",
        "\n",
        "다음 점수가 입력되었을때 창업 지원이 가능한지 여부를 True 또는 False로 출력해주세요\n",
        "\n",
        "---\n",
        "\n",
        "창의성 : 62\n",
        "시장성 : 71\n",
        "안정성 : 68\n",
        "수익성 : 66"
      ],
      "metadata": {
        "id": "2Jte2VLKdiPm"
      }
    },
    {
      "cell_type": "code",
      "source": [
        "#각각의 점수 입력\n",
        "수익성, 창의성, 시장성 = int(input(\"수익성 점수를 입력해 주세요. : \")), int(input(\"창의성 점수를 입력해 주세요. : \")), int(input(\"시장성 점수를 입력해 주세요. : \"))\n",
        "수익성커트, 창의성커트, 시장성커트 = int(60), int(50), int(50)\n",
        "수익성비교, 창의성비교, 시장성비교 = (수익성 >= 수익성커트), (창의성 >=창의성커트), (시장성 >=시장성커트)\n",
        "print (f'수익성 점수가 커트라인인 60점 이상임이 {수익성비교}로 확인되었습니다.')\n",
        "print (f'창의성 점수가 커트라인인 50점 이상임이 {창의성비교}로 확인되었습니다.')\n",
        "print (f'시장성 점수가 커트라인인 50점 이상임이 {시장성비교}로 확인되었습니다.')\n",
        "안정성 = int(68)\n",
        "비교점수 = float(((수익성 + 시장성) / 2))\n",
        "결과 = (비교점수 >= 안정성)\n",
        "print (f'비교점수값 (수익성 + 시장성 점수 합계의 절반) {비교점수}이 안정성 커트라인 점수 {안정성}점 이상임이 {결과}로 확인되었습니다.')"
      ],
      "metadata": {
        "id": "XJhvRO-2djBh",
        "colab": {
          "base_uri": "https://localhost:8080/"
        },
        "outputId": "d577b5e3-08d4-484e-bf7d-4ad96cc08e1f"
      },
      "execution_count": 35,
      "outputs": [
        {
          "output_type": "stream",
          "name": "stdout",
          "text": [
            "수익성 점수를 입력해 주세요. : 66\n",
            "창의성 점수를 입력해 주세요. : 62\n",
            "시장성 점수를 입력해 주세요. : 71\n",
            "수익성 점수가 커트라인인 60점 이상임이 True로 확인되었습니다.\n",
            "창의성 점수가 커트라인인 50점 이상임이 True로 확인되었습니다.\n",
            "시장성 점수가 커트라인인 50점 이상임이 True로 확인되었습니다.\n",
            "비교점수값 (수익성 + 시장성 점수 합계의 절반) 68.5이 안정성 커트라인 점수 68점 이상임이 True로 확인되었습니다.\n"
          ]
        }
      ]
    }
  ]
}
