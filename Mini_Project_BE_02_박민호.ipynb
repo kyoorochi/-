{
  "cells": [
    {
      "cell_type": "markdown",
      "metadata": {
        "id": "view-in-github",
        "colab_type": "text"
      },
      "source": [
        "<a href=\"https://colab.research.google.com/github/kyoorochi/-/blob/main/Mini_Project_BE_02_%EB%B0%95%EB%AF%BC%ED%98%B8.ipynb\" target=\"_parent\"><img src=\"https://colab.research.google.com/assets/colab-badge.svg\" alt=\"Open In Colab\"/></a>"
      ]
    },
    {
      "cell_type": "markdown",
      "metadata": {
        "id": "MoWlK0jinrpN"
      },
      "source": [
        "\n",
        "## Mini project [행맨 게임 제작]\n",
        "\n",
        "안녕하세요.\n",
        "수강생 여러분~! Chapter17 ~ 20 수업은 잘 들으셨나요?\n",
        "\n",
        "여러분의 모든 역량을 총 동원해 문제를 풀어주셨합니다.\n",
        "\n",
        "\n",
        "\n",
        "#### 과제 설명\n",
        "\n",
        "이번 개발 주제는 '행맨' 게임이구요.\n",
        "\n",
        "행맨 게임은 아주 유명한 단어 퀴즈 프로그램이예요\n",
        "\n",
        "어떤 단어가 주어지면 그 단어의 길이만큼 빈 칸(밑줄) 이 주어지고\n",
        "플레이어는 알파벳을 하나씩 얘기하면서 단어를 추측해요!\n",
        "\n",
        "10번만에 맞히지 못하면 게임이 끝납니다. 🥲\n",
        "\n"
      ]
    },
    {
      "cell_type": "markdown",
      "metadata": {
        "id": "TQ0_AReItZ4z"
      },
      "source": [
        "#### 예시를 들어볼께요!!\n",
        "\n",
        "만약 E 가 단어에 포함돼있다면, 해당하는 위치에 E 를 표시해줍니다\n",
        "\n",
        "_ _ _ _ E E\n",
        "이렇게 되겠네요.\n",
        "\n",
        "이번에는 A를 해볼께요\n",
        "A 는 포함되지 않으므로 기회가 줄어들고 지금까지 맞힌 내용 그대로 출력합니다.\n",
        "\n",
        "_ _ _ _ E E\n",
        "변화가 없지요.\n",
        "\n",
        "이번에는 C 를 해봅시다.\n",
        "\n",
        "그럼\n",
        "C _ _ _ E E\n",
        "\n",
        "다음에는 F 를\n",
        "C _ F F E E\n",
        "\n",
        "마지막으로 O 를 해보면\n",
        "C O F F E E 로 게임은 성공으로 끝나게 됩니다."
      ]
    },
    {
      "cell_type": "markdown",
      "metadata": {
        "id": "eAI1BLDfuoNp"
      },
      "source": [
        "##본격적인 행맨 게임 규칙 설명\n",
        "\n",
        "- words 리스트에 추가된 단어들을 사용해주세요\n",
        "  - words = [\"apple\", \"banana\", \"orange\", \"grape\", \"lemon\"]\n",
        "\n",
        "- 단어의 길이에 맞게 밑줄을 출력해주세요  \n",
        "  (예)banana의 경우 _ _ _ _ _ _\n",
        "\n",
        "- 사용자부터 1글자씩 입력을 받되,\n",
        "   - 단어에 입력값이 포함되면 \"단어를 맞추셨군요. 더 힘내봐요\"라고 출력해주세요\"\n",
        "   - 단어에 입력값이 포함되어 있지 않다면 \"틀렸습니다. 남은 시도 횟수 \"란 메시지와 함꼐 남은 횟수를 출력해주세요\n",
        "\n",
        "- 매번 입력을 받을 때마다 현재까지 맞힌 글자들 표시(맞히면 글자는 밑줄 출력)\n",
        "    - 예) a 입력 시 : a _ _ _ _\n",
        "          p 입력 시 : a p p _ _\n",
        "          c 입력 시 : a p p _ _\n",
        "\n",
        "- 모든 단어를 맞췄을 경우 \"축하합니다! 단어를 맞추셨습니다\"와 시도 횟수를 출력해주세요\n",
        "\n",
        "\n",
        "행맨은 정말 유명 게임으로 찾아볼 수 있는 자료들이 많습니다.   \n",
        "문제가 어려우신 경우 구글링 통해 문제를 해결해보세요.  "
      ]
    },
    {
      "cell_type": "code",
      "execution_count": 5,
      "metadata": {
        "id": "SlxmsiBtnqdd",
        "colab": {
          "base_uri": "https://localhost:8080/"
        },
        "outputId": "902a5112-1754-4e27-f9b8-e3ee40c501c7"
      },
      "outputs": [
        {
          "output_type": "stream",
          "name": "stdout",
          "text": [
            "행맨(Hangman) 게임을 시작합니다!!\n",
            "__________\n",
            "단어를 추측해 보세요: r\n",
            "단어를 맞추셨군요! 조금 더 힘내봅시다! 현재 1번 시도하셨습니다.\n",
            "__r____rr_\n",
            "단어를 추측해 보세요: s\n",
            "단어를 맞추셨군요! 조금 더 힘내봅시다! 현재 2번 시도하셨습니다.\n",
            "s_r____rr_\n",
            "단어를 추측해 보세요: t\n",
            "단어를 맞추셨군요! 조금 더 힘내봅시다! 현재 3번 시도하셨습니다.\n",
            "str____rr_\n",
            "단어를 추측해 보세요: a\n",
            "단어를 맞추셨군요! 조금 더 힘내봅시다! 현재 4번 시도하셨습니다.\n",
            "stra___rr_\n",
            "단어를 추측해 보세요: w\n",
            "단어를 맞추셨군요! 조금 더 힘내봅시다! 현재 5번 시도하셨습니다.\n",
            "straw__rr_\n",
            "단어를 추측해 보세요: b\n",
            "단어를 맞추셨군요! 조금 더 힘내봅시다! 현재 6번 시도하셨습니다.\n",
            "strawb_rr_\n",
            "단어를 추측해 보세요: e\n",
            "단어를 맞추셨군요! 조금 더 힘내봅시다! 현재 7번 시도하셨습니다.\n",
            "strawberr_\n",
            "단어를 추측해 보세요: y\n",
            "단어를 맞추셨군요! 조금 더 힘내봅시다! 현재 8번 시도하셨습니다.\n",
            "strawberry\n",
            "축하합니다! 단어를 맞추셨어요!: strawberry 총 시도횟수 : 8번\n"
          ]
        }
      ],
      "source": [
        "import random\n",
        "\n",
        "def choose_word():\n",
        "    words = ['apple', 'banana', 'orange', 'grape', 'strawberry'] #하나 더 추가하고 싶어 넣어본 딸기(strawberry)\n",
        "    return random.choice(words)\n",
        "\n",
        "def display_word(word, guessed_letters):\n",
        "    displayed_word = \"\"\n",
        "    for letter in word:\n",
        "        if letter in guessed_letters:\n",
        "            displayed_word += letter\n",
        "        else:\n",
        "            displayed_word += \"_\"\n",
        "    return displayed_word\n",
        "\n",
        "def hangman():\n",
        "    max_attempts = 10\n",
        "    try_attempts = 0\n",
        "    guessed_letters = []\n",
        "    word_to_guess = choose_word()\n",
        "\n",
        "    print('행맨(Hangman) 게임을 시작합니다!!')\n",
        "    print(display_word(word_to_guess, guessed_letters))\n",
        "\n",
        "    while True:\n",
        "        guess = input('단어를 추측해 보세요: ').lower()\n",
        "\n",
        "        if guess.isalpha() and len(guess) == 1:\n",
        "            if guess in guessed_letters:\n",
        "                print('이미 입력한 문자입니다. 다시 입력하세요.')\n",
        "            elif guess in word_to_guess:\n",
        "                guessed_letters.append(guess)\n",
        "                try_attempts += 1\n",
        "                print('단어를 맞추셨군요! 조금 더 힘내봅시다! 현재 {}번 시도하셨습니다.' .format(try_attempts))\n",
        "            else:\n",
        "                max_attempts -= 1\n",
        "                print('틀렸습니다. 기회는 {}번 남았습니다.'.format(max_attempts))\n",
        "\n",
        "            print(display_word(word_to_guess, guessed_letters))\n",
        "\n",
        "            if \"_\" not in display_word(word_to_guess, guessed_letters):\n",
        "                print('축하합니다! 단어를 맞추셨어요!: {}'.format(word_to_guess), '총 시도횟수 : {}번'.format(try_attempts))\n",
        "                break\n",
        "\n",
        "            if max_attempts == 0:\n",
        "                print(\"아쉽네요...몇 번 더 기회를 줬으면 맞췄을건데, 시도 횟수가 좀 부족했습니다.\\n\"\n",
        "                      \"답: {}\".format(word_to_guess))\n",
        "                break\n",
        "        else:\n",
        "            print(\"잘못 입력했습니다. 한 글자의 영어 단어를 입력하세요.\")\n",
        "\n",
        "if __name__ == \"__main__\":\n",
        "    hangman()"
      ]
    }
  ],
  "metadata": {
    "colab": {
      "provenance": [],
      "include_colab_link": true
    },
    "kernelspec": {
      "display_name": "Python 3",
      "name": "python3"
    },
    "language_info": {
      "name": "python"
    }
  },
  "nbformat": 4,
  "nbformat_minor": 0
}