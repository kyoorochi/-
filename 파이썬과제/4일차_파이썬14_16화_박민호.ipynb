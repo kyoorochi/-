{
  "nbformat": 4,
  "nbformat_minor": 0,
  "metadata": {
    "colab": {
      "provenance": [],
      "include_colab_link": true
    },
    "kernelspec": {
      "name": "python3",
      "display_name": "Python 3"
    },
    "language_info": {
      "name": "python"
    }
  },
  "cells": [
    {
      "cell_type": "markdown",
      "metadata": {
        "id": "view-in-github",
        "colab_type": "text"
      },
      "source": [
        "<a href=\"https://colab.research.google.com/github/kyoorochi/-/blob/main/4%EC%9D%BC%EC%B0%A8_%ED%8C%8C%EC%9D%B4%EC%8D%AC14_16%ED%99%94_%EB%B0%95%EB%AF%BC%ED%98%B8.ipynb\" target=\"_parent\"><img src=\"https://colab.research.google.com/assets/colab-badge.svg\" alt=\"Open In Colab\"/></a>"
      ]
    },
    {
      "cell_type": "markdown",
      "source": [
        "안녕하세요. 수강생 여러분~! Chapter14 ~ 16 수업은 잘 들으셨나요?\n",
        "\n",
        "Chapter14 ~ 16의 수업 내용을 바탕으로 아래 문제를 풀어주시면 됩니다.\n",
        "\n",
        "####**제출 방법 안내**\n",
        "상단 파일명(4일차_파이썬14_16화.ipynb)을 4일차_파이썬14_16화_000(본인이름).ipynb로 변경후 아래 링크로 접속 후 본인 이름의 폴더에 제출해주면 됩니다.\n",
        "\n",
        "제출 링크 :\n",
        "\n",
        "####**답변 입력 방법 안내**\n",
        "\"답변\"이라고 적힌란을 마우스로 더블 클릭하시면 글을 작성할 수 있습니다.\n",
        "\n",
        "텍스트에 글을 더 잘 작성하기 위해서는 마크다운 언어를 공부하시면 됩니다.\n",
        "\n",
        "**(구글 검색 창에 \"코랩 마크다운\" 검색)**"
      ],
      "metadata": {
        "id": "BX7SgOeWu86I"
      }
    },
    {
      "cell_type": "markdown",
      "source": [
        "##문제1\n",
        "\n",
        "주어진 정수 x와 자연수 n을 이용해, x부터 시작해 x씩 증가하는 숫자를 n개 지니는 리스트를 출력해주세요   \n",
        "\n",
        "x = 2, n =5"
      ],
      "metadata": {
        "id": "7kQJMRuFu-6s"
      }
    },
    {
      "cell_type": "code",
      "execution_count": 27,
      "metadata": {
        "id": "juUF2KYbu0DX",
        "colab": {
          "base_uri": "https://localhost:8080/"
        },
        "outputId": "d34b5dd1-5862-4622-fa9f-9d7024c0d0a0"
      },
      "outputs": [
        {
          "output_type": "stream",
          "name": "stdout",
          "text": [
            "[2, 4, 6, 8, 10]\n"
          ]
        }
      ],
      "source": [
        "x = 2\n",
        "n = 5\n",
        "\n",
        "제출 = [x]\n",
        "\n",
        "count = 0\n",
        "\n",
        "while count != n-1:\n",
        "    제출 += [제출[count] + 2]\n",
        "    count += 1\n",
        "print(제출)"
      ]
    },
    {
      "cell_type": "markdown",
      "source": [
        "##문제2\n",
        "\n",
        "전화번호가 문자열 phone_number로 주어졌을 때, 전화번호의 뒷 4자리를 *으로 가린 문자열이 출력되도록 코드를 작성해주세요\n",
        "\n",
        "phone_number = \"01012347890\"  \n",
        "\n",
        "출력 예시 : \"0101234****\""
      ],
      "metadata": {
        "id": "4BPXMLXUvBVL"
      }
    },
    {
      "cell_type": "code",
      "source": [
        "phone_number = \"01012347890\"\n",
        "print(phone_number[0:7] + \"****\")\n",
        "\n",
        "\n"
      ],
      "metadata": {
        "id": "P0fY7CYUvC_j",
        "colab": {
          "base_uri": "https://localhost:8080/"
        },
        "outputId": "b4ac8415-67a6-4c8a-8467-1535cfbd4b6f"
      },
      "execution_count": 28,
      "outputs": [
        {
          "output_type": "stream",
          "name": "stdout",
          "text": [
            "0101234****\n"
          ]
        }
      ]
    },
    {
      "cell_type": "markdown",
      "source": [
        "##문제3\n",
        "\n",
        "숫자를 건넬 때 일부 자릿수를 영단어로 바꾼 카드를 건네주면 프로도는 원래 숫자를 찾는 게임입니다.\n",
        "\n",
        "다음은 숫자의 일부 자릿수를 영단어로 바꾸는 예시입니다.\n",
        "\n",
        "1478 → \"one4seveneight\"  \n",
        "234567 → \"23four5six7\"  \n",
        "10203 → \"1zerotwozero3\"    \n",
        "\n",
        "이렇게 숫자의 일부 자릿수가 영단어로 바뀌어졌거나,   \n",
        "혹은 바뀌지 않고 그대로인 문자열 s가 주어졌을때\n",
        "s가 의미하는 원래 숫자를 출력하도록 코드를 작성해주세요\n",
        "\n",
        "s = \"77three4one\n",
        "\n",
        "---\n",
        "참고로 각 숫자에 대응되는 영단어는 다음 표와 같습니다.\n",
        "\n",
        "숫자\t영단어  \n",
        "0\tzero  \n",
        "1\tone  \n",
        "2\ttwo  \n",
        "3\tthree  \n",
        "4\tfour  \n",
        "5\tfive  \n",
        "6\tsix  \n",
        "7\tseven  \n",
        "8\teight  \n",
        "9\tnine  "
      ],
      "metadata": {
        "id": "uUdOU9cFvDsq"
      }
    },
    {
      "cell_type": "code",
      "source": [
        "num_list = dict(zip([\"zero\", \"one\", \"two\", \"three\", \"four\", \"five\", \"six\", \"seven\", \"eight\", \"nine\"],\n",
        "                    [0, 1, 2, 3, 4, 5, 6, 7, 8, 9]))\n",
        "\n",
        "s = \"77three4one\"\n",
        "\n",
        "for c in num_list:\n",
        "    if c in s:\n",
        "        s = s.replace(c,str(num_list[c]))\n",
        "print(s)"
      ],
      "metadata": {
        "id": "2NmqRFgDvFtz",
        "colab": {
          "base_uri": "https://localhost:8080/"
        },
        "outputId": "e192b982-36b4-4488-e296-2239611d32ed"
      },
      "execution_count": 29,
      "outputs": [
        {
          "output_type": "stream",
          "name": "stdout",
          "text": [
            "77341\n"
          ]
        }
      ]
    },
    {
      "cell_type": "markdown",
      "source": [
        "##문제4\n",
        "\n",
        "행렬의 덧셈은 행과 열의 크기가 같은 두 행렬의 같은 행, 같은 열의 값을 서로 더한 결과가 됩니다. 2개의 행렬 arr1과 arr2가 주어졌을 때, 행렬 덧셈의 결과를 출력하는 코드를 작성해주세요(result와 같은 결과가 출력되도록 작성)\n",
        "\n",
        "arr1 = [[1,2],[2,3]]\n",
        "\n",
        "arr2 = [[3,4],[5,6]]\n",
        "\n",
        "result = [[4,6],[7,9]]"
      ],
      "metadata": {
        "id": "J0Tha6AdvGL3"
      }
    },
    {
      "cell_type": "code",
      "source": [
        "art1 = [[1,2],[2,3]]\n",
        "art2 = [[3,4],[5,6]]\n",
        "\n",
        "result = [[0,0],[0,0]]\n",
        "\n",
        "for a in range(len(art1)):\n",
        "    for b in range(len(art1[0])):\n",
        "        result[a][b] = art1[a][b] + art2[a][b]\n",
        "print(result)"
      ],
      "metadata": {
        "id": "ujiXrEhJvIV0",
        "colab": {
          "base_uri": "https://localhost:8080/"
        },
        "outputId": "c0d238d8-adbd-4dc3-89ad-965b975217e7"
      },
      "execution_count": 30,
      "outputs": [
        {
          "output_type": "stream",
          "name": "stdout",
          "text": [
            "[[4, 6], [7, 9]]\n"
          ]
        }
      ]
    },
    {
      "cell_type": "markdown",
      "source": [
        "##문제5\n",
        "\n",
        "양의 정수 x가 하샤드 수이려면 x의 자릿수의 합으로 x가 나누어져야 합니다.   \n",
        "예를 들어 18의 자릿수 합은 1+8=9이고, 18은 9로 나누어 떨어지므로 18은 하샤드 수입니다.   \n",
        "주어진 x를 이용해 x가 하샤드 수인지 아닌지 검사하는 코드를 작성해주세요\n",
        "\n",
        "x = 17\n",
        "\n",
        "----\n",
        "\n",
        "입출력 예시\n",
        "x\t결과값  \n",
        "10\ttrue  \n",
        "12\ttrue  \n",
        "11\tfalse  \n",
        "13\tfalse  "
      ],
      "metadata": {
        "id": "eLdrWVkavJEN"
      }
    },
    {
      "cell_type": "code",
      "source": [
        "x = 17\n",
        "x = str(x)\n",
        "\n",
        "a = int(x[0])\n",
        "b = int(x[1])\n",
        "\n",
        "if int(x)/(a+b) == 0:\n",
        "    print(x, True)\n",
        "else:\n",
        "    print(x, False)"
      ],
      "metadata": {
        "id": "EULD-IOrvKmG",
        "colab": {
          "base_uri": "https://localhost:8080/"
        },
        "outputId": "dc513ed3-0549-4ef8-ba28-2b8287357b49"
      },
      "execution_count": 31,
      "outputs": [
        {
          "output_type": "stream",
          "name": "stdout",
          "text": [
            "17 False\n"
          ]
        }
      ]
    },
    {
      "cell_type": "markdown",
      "source": [
        "##문제6\n",
        "\n",
        "String형 배열 seoul의 element중 \"Kim\"의 인덱스 x를 찾아, \"김서방은 x에 있다\"는 String을 출력하는 코드를 작성해주세요.   \n",
        "\n",
        "seoul에 \"Kim\"은 오직 한 번만 나타나며 잘못된 값이 입력되는 경우는 없습니다.\n",
        "\n",
        "seoul = [\"Jane\", \"Kim\"]\n",
        "\n",
        "결과\n",
        "\"김서방은 1에 있다\""
      ],
      "metadata": {
        "id": "GeS6hZhivLMZ"
      }
    },
    {
      "cell_type": "code",
      "source": [
        "seoul = [\"Jane\", \"Kim\"]\n",
        "\n",
        "kim_index = seoul.index(\"Kim\")\n",
        "result = f'김서방은 {kim_index}에 있다'\n",
        "print(result)"
      ],
      "metadata": {
        "id": "e4LXat3BvRRg",
        "colab": {
          "base_uri": "https://localhost:8080/"
        },
        "outputId": "e1e30491-899f-44e2-fbac-5392caef3639"
      },
      "execution_count": 32,
      "outputs": [
        {
          "output_type": "stream",
          "name": "stdout",
          "text": [
            "김서방은 1에 있다\n"
          ]
        }
      ]
    },
    {
      "cell_type": "markdown",
      "source": [
        "##문제7\n",
        "\n",
        "0부터 9까지의 숫자 중 일부가 들어있는 정수 배열 numbers가 주어집니다.   \n",
        "numbers에서 찾을 수 없는 0부터 9까지의 숫자를 모두 찾아 더한 수를 출력해주세요\n",
        "\n",
        "numbers = [5,8,1,0,6,9]"
      ],
      "metadata": {
        "id": "iZjKl-ZqvOkm"
      }
    },
    {
      "cell_type": "code",
      "source": [
        "numbers = [5,8,1,0,6,9]\n",
        "numbers = set(numbers)\n",
        "\n",
        "x = set(range(10))\n",
        "\n",
        "find = set.difference(x - numbers)\n",
        "find_list = list(find)\n",
        "\n",
        "result = sum(find_list)\n",
        "print(result)"
      ],
      "metadata": {
        "id": "598DAkIHvQav",
        "colab": {
          "base_uri": "https://localhost:8080/"
        },
        "outputId": "c4891c8f-3732-4095-b14b-19a248b73c75"
      },
      "execution_count": 33,
      "outputs": [
        {
          "output_type": "stream",
          "name": "stdout",
          "text": [
            "16\n"
          ]
        }
      ]
    }
  ]
}
